{
  "nbformat": 4,
  "nbformat_minor": 0,
  "metadata": {
    "colab": {
      "name": "20220316.ipynb",
      "provenance": [],
      "authorship_tag": "ABX9TyOjpEC4mHZ8a8CZajAXeJES",
      "include_colab_link": true
    },
    "kernelspec": {
      "name": "python3",
      "display_name": "Python 3"
    },
    "language_info": {
      "name": "python"
    }
  },
  "cells": [
    {
      "cell_type": "markdown",
      "metadata": {
        "id": "view-in-github",
        "colab_type": "text"
      },
      "source": [
        "<a href=\"https://colab.research.google.com/github/heejininku/class2022spring/blob/main/20220316.ipynb\" target=\"_parent\"><img src=\"https://colab.research.google.com/assets/colab-badge.svg\" alt=\"Open In Colab\"/></a>"
      ]
    },
    {
      "cell_type": "markdown",
      "source": [
        "20220316 복습노트"
      ],
      "metadata": {
        "id": "l4hKHTcY_3Jh"
      }
    },
    {
      "cell_type": "markdown",
      "source": [
        "*앞으로 사용하는 것 정리\n",
        "\n",
        "python: 말그대로 코딩 언어\n",
        "\n",
        "colab: 작업공간 (예전에는 컴퓨터에 직접하였으나, 이제는 구글 클라우드에서)\n",
        "\n",
        "github:저장공간\n",
        "\n",
        "data processing (데이터에는 크게 3가지- text, sound, image)\n",
        "\n",
        "hugging face: AI Models 모아놓은 사이트\n",
        "\n",
        "gradio: demo하기 위해서 코딩할 수 있게 도와주는 곳\n"
      ],
      "metadata": {
        "id": "a90kPtOZCQJX"
      }
    },
    {
      "cell_type": "markdown",
      "source": [
        "*코딩에서 생각할 것\n",
        "1. 변수 (variables)-> strings은 변수 중 하나 (중요)\n",
        "\n",
        "2. 함수 (function): 함수에서는 imput과 output을 기억하자. 3가지 데이터 중에 하나가 들어가서 3가지 데이터 중에 하나로 나오는 형식 (ex. tts, stt)\n",
        "우리는 함수의 안을 뜯어볼 필요는 없음.\n",
        "AI Model도 함수임.\n",
        "\n",
        "3. 문법(syntax)-> 조건문(if~) & 반복문 (for)\n",
        "\n",
        "4. 패키지 (package) (library)\n",
        "   -> 많은 함수들을 모아놓은 것이 패키지임.\n",
        "   패키지를 불러오는 것이 import임\n",
        "\n",
        "    "
      ],
      "metadata": {
        "id": "SxBCZ8KF__dy"
      }
    },
    {
      "cell_type": "markdown",
      "source": [
        "<1. 변수 (variables)>\n",
        "\n",
        "*Programming language 를 생각해보자.\n",
        "\n",
        "예) variables=3 이면 3이 variables 속에 들어간다고 생각을 하기. (assign!)\n",
        "\n",
        "이런 문장들이 조합되는 방식이 syntax임\n",
        "\n",
        "변수 안에는 크게 4가지가 있음\n",
        "\n",
        "1. numbers(숫자), string (문자), list (여러개 담는 것), dict"
      ],
      "metadata": {
        "id": "ZbFV2bYhBgIG"
      }
    },
    {
      "cell_type": "code",
      "source": [
        "a=1\n",
        "print (a)\n",
        "print (type (a))"
      ],
      "metadata": {
        "colab": {
          "base_uri": "https://localhost:8080/"
        },
        "id": "VMHSkJrCEt0F",
        "outputId": "3159a53a-650c-455b-d745-8a62d9c7aa5e"
      },
      "execution_count": null,
      "outputs": [
        {
          "output_type": "stream",
          "name": "stdout",
          "text": [
            "1\n",
            "<class 'int'>\n"
          ]
        }
      ]
    },
    {
      "cell_type": "code",
      "source": [
        "a=1.0\n",
        "print (a)\n",
        "print (type (a))"
      ],
      "metadata": {
        "colab": {
          "base_uri": "https://localhost:8080/"
        },
        "id": "IPNJ7I1eFBmE",
        "outputId": "85f63d35-7595-44af-ac91-7678fbc59379"
      },
      "execution_count": null,
      "outputs": [
        {
          "output_type": "stream",
          "name": "stdout",
          "text": [
            "1.0\n",
            "<class 'float'>\n"
          ]
        }
      ]
    },
    {
      "cell_type": "code",
      "source": [
        "a='apple'\n",
        "print (a)\n",
        "print (type (a))"
      ],
      "metadata": {
        "colab": {
          "base_uri": "https://localhost:8080/"
        },
        "id": "FNeWbFkoFO0Z",
        "outputId": "3c9e3de1-5c30-4478-cad1-7c0f82c13b7c"
      },
      "execution_count": null,
      "outputs": [
        {
          "output_type": "stream",
          "name": "stdout",
          "text": [
            "apple\n",
            "<class 'str'>\n"
          ]
        }
      ]
    },
    {
      "cell_type": "code",
      "source": [
        "a= '123'\n",
        "print (a)\n",
        "print (type (a))"
      ],
      "metadata": {
        "colab": {
          "base_uri": "https://localhost:8080/"
        },
        "id": "UIjM9Q5TFG2y",
        "outputId": "297853d9-a3dc-48e2-8a9b-48c8cb880ce9"
      },
      "execution_count": null,
      "outputs": [
        {
          "output_type": "stream",
          "name": "stdout",
          "text": [
            "123\n",
            "<class 'str'>\n"
          ]
        }
      ]
    },
    {
      "cell_type": "code",
      "source": [
        "a= [1,2,3]\n",
        "print (a)\n",
        "print (type (a))"
      ],
      "metadata": {
        "colab": {
          "base_uri": "https://localhost:8080/"
        },
        "id": "J2U-CAh0FWrt",
        "outputId": "1b6b1316-4537-4a3a-a3f6-e8c20b4901d4"
      },
      "execution_count": null,
      "outputs": [
        {
          "output_type": "stream",
          "name": "stdout",
          "text": [
            "[1, 2, 3]\n",
            "<class 'list'>\n"
          ]
        }
      ]
    },
    {
      "cell_type": "code",
      "source": [
        "a= [1, 'apple' , 3, [4,5]]\n",
        "print (a)\n",
        "print (type (a))"
      ],
      "metadata": {
        "colab": {
          "base_uri": "https://localhost:8080/"
        },
        "id": "DTFtvIIBF4qj",
        "outputId": "c13e4339-3bbe-4ee8-df0e-e138e1380d1e"
      },
      "execution_count": null,
      "outputs": [
        {
          "output_type": "stream",
          "name": "stdout",
          "text": [
            "[1, 'apple', 3, [4, 5]]\n",
            "<class 'list'>\n"
          ]
        }
      ]
    },
    {
      "cell_type": "markdown",
      "source": [
        "- list의 indexing\n",
        "\n",
        "a[0]이런식으로 쓴다면 list 중에서 a의 0번째를 보여달라는 의미임.\n",
        "\n",
        "파이썬은 0부터 시작함./ 맨 끝의 것은 다시 -1 이런식으로 여겨짐.\n",
        "1:3  이렇게 아는다면 앞에 순서는 포함하고 뒤에 순서는 불포함.\n",
        "\n",
        "list의 indexing과 string의 indexing은 같은 원리\n"
      ],
      "metadata": {
        "id": "-3nA0qvmF8km"
      }
    },
    {
      "cell_type": "code",
      "source": [
        "a=[1,2,3,4]\n",
        "print (a[0])\n",
        "print (a[2])\n",
        "print (a[:])\n",
        "print (a[:3])\n",
        "print (a[1:3])\n",
        "print (a[1:-1])"
      ],
      "metadata": {
        "colab": {
          "base_uri": "https://localhost:8080/"
        },
        "id": "ljtQtrdMsHSV",
        "outputId": "c23063b3-8951-4d7f-ee5f-57aba10872bb"
      },
      "execution_count": null,
      "outputs": [
        {
          "output_type": "stream",
          "name": "stdout",
          "text": [
            "1\n",
            "3\n",
            "[1, 2, 3, 4]\n",
            "[1, 2, 3]\n",
            "[2, 3]\n",
            "[2, 3]\n"
          ]
        }
      ]
    },
    {
      "cell_type": "code",
      "source": [
        "a=[1,'a', [3,'4'], [1,'a',3,5]]\n",
        "print (a[2][1])\n",
        "print (a[2][0])\n",
        "print (a[3][2])\n",
        "#여기서 print (a[1][1])하면 error 발생"
      ],
      "metadata": {
        "colab": {
          "base_uri": "https://localhost:8080/"
        },
        "id": "Jr6294k_uCeF",
        "outputId": "8933295f-c49b-4b3a-e941-3d3465734287"
      },
      "execution_count": null,
      "outputs": [
        {
          "output_type": "stream",
          "name": "stdout",
          "text": [
            "4\n",
            "3\n",
            "3\n"
          ]
        }
      ]
    },
    {
      "cell_type": "markdown",
      "source": [
        "- string의 indexing\n"
      ],
      "metadata": {
        "id": "PAlWkE9VvOjM"
      }
    },
    {
      "cell_type": "code",
      "source": [
        "a='abcde1234'\n",
        "print(a[:])\n",
        "print(a[:3])\n",
        "print(a[3:-1])\n",
        "\n"
      ],
      "metadata": {
        "colab": {
          "base_uri": "https://localhost:8080/"
        },
        "id": "8aps7nG_v0YU",
        "outputId": "d2f1f5a3-d0a4-4a76-c86f-5daa5767fa74"
      },
      "execution_count": null,
      "outputs": [
        {
          "output_type": "stream",
          "name": "stdout",
          "text": [
            "abcde1234\n",
            "abc\n",
            "de123\n"
          ]
        }
      ]
    },
    {
      "cell_type": "markdown",
      "source": [
        "- list와 유사한 tuple\n",
        "\n",
        "-list는 a=[1,2,3] 상황에서\n",
        "\n",
        "a[1]=0 이렇게 하고\n",
        "\n",
        "print(a) 하면 a=[1,0,3] 이렇게 된다.\n",
        "\n",
        "\n",
        "\n",
        "-tuple은 a=(1,2,3) 상황에서\n",
        "\n",
        "a[1]=0 이렇게 하고\n",
        "\n",
        "print (a) 하면 error\n",
        "\n",
        "print(a[1])+a[2]은 5로 계산은 됨\n",
        "\n",
        "그러나, assign해서 내부변경은 불가\n",
        "(단순히 이정도 차이임-사람들실수방지)\n",
        "\n",
        "\n"
      ],
      "metadata": {
        "id": "vUBXCw0yw-kn"
      }
    },
    {
      "cell_type": "markdown",
      "source": [
        "- dict\n",
        "(dictionary의 줄임말)\n",
        "\n",
        "사전처럼 만드는 것. data base 할 때 유용\n"
      ],
      "metadata": {
        "id": "9ao11lsTzV_6"
      }
    },
    {
      "cell_type": "code",
      "source": [
        "a={'a':'apple','b':'orange','c': 2014}\n",
        "#3개의 아이템이 존재하는 상황임 - key와 value 로 세트로 구성\n",
        "#a[0]은 순서하려고 해도 불가능함\n",
        "#aa: 'apple' 이런식으로 할당하면 안된다. (그냥 aa는 변수라는 의미이니까)\n",
        "print(a['a'])"
      ],
      "metadata": {
        "id": "3HBnUjJEzswD",
        "colab": {
          "base_uri": "https://localhost:8080/"
        },
        "outputId": "8172837d-f2d9-4b16-d462-1ce017051b7a"
      },
      "execution_count": null,
      "outputs": [
        {
          "output_type": "stream",
          "name": "stdout",
          "text": [
            "apple\n"
          ]
        }
      ]
    },
    {
      "cell_type": "code",
      "source": [
        "a={'aa':'apple', 'ba': 'orange', 'ct':2014}\n",
        "print (a['aa'])\n",
        "a['ct']"
      ],
      "metadata": {
        "colab": {
          "base_uri": "https://localhost:8080/"
        },
        "id": "Re7oNbudYhgF",
        "outputId": "3db3fddd-0c9b-4225-f27d-b05d014a46d7"
      },
      "execution_count": null,
      "outputs": [
        {
          "output_type": "stream",
          "name": "stdout",
          "text": [
            "apple\n"
          ]
        },
        {
          "output_type": "execute_result",
          "data": {
            "text/plain": [
              "2014"
            ]
          },
          "metadata": {},
          "execution_count": 6
        }
      ]
    },
    {
      "cell_type": "code",
      "source": [
        "a={123:'apple','ba':'orange','ct':2002}\n",
        "print (a[123])\n",
        "#이렇게 key부분에 123을 넣을 수 있음"
      ],
      "metadata": {
        "colab": {
          "base_uri": "https://localhost:8080/"
        },
        "id": "irmE7yksZzRJ",
        "outputId": "00e2e524-3748-4d50-f64a-0b772e3cc621"
      },
      "execution_count": null,
      "outputs": [
        {
          "output_type": "stream",
          "name": "stdout",
          "text": [
            "apple\n"
          ]
        }
      ]
    },
    {
      "cell_type": "markdown",
      "source": [
        "*실행 두 개를 시키고 싶을 때, 세미콜론을 사용한다.\n",
        "\n",
        "예를 들어서 print (type(a));print(a['ba']) 이렇게 한다면\n",
        "\n",
        "<class'dict'> \n",
        "\n",
        "orange\n",
        "\n",
        "이런식으로 두개가 다 나오게 됨."
      ],
      "metadata": {
        "id": "p8iXuI-UbRW5"
      }
    },
    {
      "cell_type": "markdown",
      "source": [
        "*string을 더 자세히 보자!"
      ],
      "metadata": {
        "id": "iv1qmVGUddOo"
      }
    },
    {
      "cell_type": "code",
      "source": [
        "s= 'abcdef'\n",
        "print(s[0],s[5],s[-1],s[-6])\n",
        "print(s[1:3],s[1:],s[:3],s[:])\n",
        "s[1]+s[3]+s[4:]*10"
      ],
      "metadata": {
        "colab": {
          "base_uri": "https://localhost:8080/",
          "height": 73
        },
        "id": "7DBfQ7okdhWa",
        "outputId": "3cbeb106-6bf6-462e-de5a-43017bd2f0ff"
      },
      "execution_count": null,
      "outputs": [
        {
          "output_type": "stream",
          "name": "stdout",
          "text": [
            "a f f a\n",
            "bc bcdef abc abcdef\n"
          ]
        },
        {
          "output_type": "execute_result",
          "data": {
            "text/plain": [
              "'bdefefefefefefefefefef'"
            ],
            "application/vnd.google.colaboratory.intrinsic+json": {
              "type": "string"
            }
          },
          "metadata": {},
          "execution_count": 20
        }
      ]
    },
    {
      "cell_type": "code",
      "source": [
        "#아래는 list임(그러나, string과 유사성이 있음.)\n",
        "n=[100,200,300]\n",
        "print (n[0],n[2],n[-1],n[-3])\n",
        "print (n[1:2],n[1:],n[:2],n[:])\n"
      ],
      "metadata": {
        "colab": {
          "base_uri": "https://localhost:8080/"
        },
        "id": "VVPwWx9vd1NM",
        "outputId": "fdd8aab5-3c15-416d-f886-ef58a5450821"
      },
      "execution_count": null,
      "outputs": [
        {
          "output_type": "stream",
          "name": "stdout",
          "text": [
            "100 300 300 100\n",
            "[200] [200, 300] [100, 200] [100, 200, 300]\n"
          ]
        }
      ]
    },
    {
      "cell_type": "code",
      "source": [
        "len(s)\n",
        "#len은 길이를 말해주는 함수 (여기서는 s가 abcdef이므로 6)"
      ],
      "metadata": {
        "colab": {
          "base_uri": "https://localhost:8080/"
        },
        "id": "IQPG50dLe6js",
        "outputId": "98675b38-d56a-4362-a91b-b46f82b8cfab"
      },
      "execution_count": null,
      "outputs": [
        {
          "output_type": "execute_result",
          "data": {
            "text/plain": [
              "6"
            ]
          },
          "metadata": {},
          "execution_count": 18
        }
      ]
    },
    {
      "cell_type": "code",
      "source": [
        "s.upper()\n",
        "#s.upper은 대문자화를 시켜주는 함수임."
      ],
      "metadata": {
        "colab": {
          "base_uri": "https://localhost:8080/",
          "height": 36
        },
        "id": "PSkYjF99f6r8",
        "outputId": "e33de712-e474-4a1c-9d41-7d46d48f418c"
      },
      "execution_count": null,
      "outputs": [
        {
          "output_type": "execute_result",
          "data": {
            "text/plain": [
              "'ABCDEF'"
            ],
            "application/vnd.google.colaboratory.intrinsic+json": {
              "type": "string"
            }
          },
          "metadata": {},
          "execution_count": 21
        }
      ]
    },
    {
      "cell_type": "code",
      "source": [
        "s = ' this is a house built this year.\\n' \t\n",
        "s\n",
        "#마지막에 쓸 때는 print 없이 s만 써도 괜찮음."
      ],
      "metadata": {
        "colab": {
          "base_uri": "https://localhost:8080/",
          "height": 36
        },
        "id": "QCRrxiuYf-oA",
        "outputId": "341ca627-af08-4cb0-b35f-00f18a1d6e3b"
      },
      "execution_count": null,
      "outputs": [
        {
          "output_type": "execute_result",
          "data": {
            "text/plain": [
              "' this is a house built this year.\\n'"
            ],
            "application/vnd.google.colaboratory.intrinsic+json": {
              "type": "string"
            }
          },
          "metadata": {},
          "execution_count": 30
        }
      ]
    },
    {
      "cell_type": "code",
      "source": [
        "result = s.find('house')\n",
        "result\n",
        "# 문장 속에서 'house'가 몇번째 글자로 등장하는지 알려준다."
      ],
      "metadata": {
        "colab": {
          "base_uri": "https://localhost:8080/"
        },
        "id": "Xhp187axgYhk",
        "outputId": "f4b5e305-c234-426c-d29a-d45bd2d79a6c"
      },
      "execution_count": null,
      "outputs": [
        {
          "output_type": "execute_result",
          "data": {
            "text/plain": [
              "11"
            ]
          },
          "metadata": {},
          "execution_count": 31
        }
      ]
    },
    {
      "cell_type": "code",
      "source": [
        "result = s.find('this')\n",
        "result\n",
        "# 문장 속에서 'this'가 몇번째 글자로 등장하는지 알려준다."
      ],
      "metadata": {
        "colab": {
          "base_uri": "https://localhost:8080/"
        },
        "id": "1Gt8lcq-gtEl",
        "outputId": "8ff41465-314c-490f-b9ed-3b08e09d87ca"
      },
      "execution_count": null,
      "outputs": [
        {
          "output_type": "execute_result",
          "data": {
            "text/plain": [
              "1"
            ]
          },
          "metadata": {},
          "execution_count": 32
        }
      ]
    },
    {
      "cell_type": "code",
      "source": [
        "s = s.strip()\n",
        "s\n",
        "#문장에서 여백 (whitespace), 지저분한 부분을 정리해줌."
      ],
      "metadata": {
        "colab": {
          "base_uri": "https://localhost:8080/",
          "height": 36
        },
        "id": "SP-nyl_xgv5w",
        "outputId": "95c612ee-3f5a-4d4e-828e-03d5fc995037"
      },
      "execution_count": null,
      "outputs": [
        {
          "output_type": "execute_result",
          "data": {
            "text/plain": [
              "'this is a house built this year.'"
            ],
            "application/vnd.google.colaboratory.intrinsic+json": {
              "type": "string"
            }
          },
          "metadata": {},
          "execution_count": 33
        }
      ]
    },
    {
      "cell_type": "code",
      "source": [
        "tokens = s.split(' ')\n",
        "tokens\n",
        "#split는 빈칸이 있으면 빈칸을 기준으로 쪼개고 리스트를 만들어 줌. 유용함."
      ],
      "metadata": {
        "colab": {
          "base_uri": "https://localhost:8080/"
        },
        "id": "QiDVGFX8g2oT",
        "outputId": "30519f38-de31-45d3-f2c9-ba89281d7344"
      },
      "execution_count": null,
      "outputs": [
        {
          "output_type": "execute_result",
          "data": {
            "text/plain": [
              "['this', 'is', 'a', 'house', 'built', 'this', 'year.']"
            ]
          },
          "metadata": {},
          "execution_count": 34
        }
      ]
    },
    {
      "cell_type": "code",
      "source": [
        "s = ' '.join(tokens)\n",
        "s\n",
        "#join은 split와 역방향으로 작업을 한다고 생각하기."
      ],
      "metadata": {
        "colab": {
          "base_uri": "https://localhost:8080/",
          "height": 36
        },
        "id": "6OegLE6NiCIQ",
        "outputId": "b6ee83e5-6302-4980-f390-8a161c661ab9"
      },
      "execution_count": null,
      "outputs": [
        {
          "output_type": "execute_result",
          "data": {
            "text/plain": [
              "'this is a house built this year.'"
            ],
            "application/vnd.google.colaboratory.intrinsic+json": {
              "type": "string"
            }
          },
          "metadata": {},
          "execution_count": 37
        }
      ]
    },
    {
      "cell_type": "code",
      "source": [
        "s = s.replace('this', 'that')\n",
        "s\n",
        "#this를 that으로 바꾸는 작업을 한 것임."
      ],
      "metadata": {
        "colab": {
          "base_uri": "https://localhost:8080/",
          "height": 36
        },
        "id": "IHrsNduUiWMd",
        "outputId": "2404d5bd-3b82-4a0e-d54e-35364f9e207b"
      },
      "execution_count": null,
      "outputs": [
        {
          "output_type": "execute_result",
          "data": {
            "text/plain": [
              "'that is a house built that year.'"
            ],
            "application/vnd.google.colaboratory.intrinsic+json": {
              "type": "string"
            }
          },
          "metadata": {},
          "execution_count": 38
        }
      ]
    },
    {
      "cell_type": "markdown",
      "source": [
        "<2. 함수 (function)>"
      ],
      "metadata": {
        "id": "a5QJwZgui7DE"
      }
    },
    {
      "cell_type": "markdown",
      "source": [
        "함수는 print, len 이런 것들임. 보통 만들어 준 것을 사용하게 될 것.\n",
        "\n",
        "함수 만드는 방법 def 함수명 (입력변수1, 입력변수2):\n",
        "\n",
        "def는 define이라는 의미/ 입력변수가 여러개라면 , 를 찍는다.\n",
        "return 출력변수명1, 출력변수명2 ,,,, 이런식으로 표현해보기\n",
        "\n",
        "주의할 점. def 아래에 무엇인가 쓸 때에는 들여쓰기해서 이어나가기"
      ],
      "metadata": {
        "id": "6RbRg-NijRtv"
      }
    },
    {
      "cell_type": "code",
      "source": [
        "def add(a,b):\n",
        "  return a+b\n",
        "#여기서 입력이 a,b 이고 a+b 가 출력\n",
        "\n",
        "def add (a,b):\n",
        "  c=a+b\n",
        "  return c\n",
        "#이렇게 쓰는 것도 바로 위의 상황과 동일한 것인데 표현만 다르게 한 것.\n",
        "\n",
        "def subtract(a,b):\n",
        "  return a-b\n",
        "\n",
        "def multiply(a,b):\n",
        "  return a*b\n",
        "\n",
        "def divide(a,b):\n",
        "  return a/b"
      ],
      "metadata": {
        "id": "L9Qdl421jSmt"
      },
      "execution_count": null,
      "outputs": []
    },
    {
      "cell_type": "code",
      "source": [
        "c = add(1,2); print(c)\n",
        "c = subtract(1,2); print(c)\n",
        "c = multiply(1,2); print(c)\n",
        "c = divide(1,2); print(c)"
      ],
      "metadata": {
        "colab": {
          "base_uri": "https://localhost:8080/"
        },
        "id": "cTBXtKMGjUAx",
        "outputId": "05e354e7-647a-4e77-ee1e-24ac9a15b610"
      },
      "execution_count": null,
      "outputs": [
        {
          "output_type": "stream",
          "name": "stdout",
          "text": [
            "3\n",
            "-1\n",
            "2\n",
            "0.5\n"
          ]
        }
      ]
    },
    {
      "cell_type": "markdown",
      "source": [
        "<3. 문법(syntax)>\n",
        "\n",
        "반복문 (for)\n",
        "\n",
        "형태: \n",
        "\n",
        "for i in a\n",
        " \n",
        " 띄우고 print a\n",
        "\n",
        "의미: a에 있는 것들을 a에서 i로 처음부터 하나하나씩 받아서 i에서 돌린다.\n"
      ],
      "metadata": {
        "id": "qOOncE71lMFq"
      }
    },
    {
      "cell_type": "code",
      "source": [
        "a = [1, 2, 3, 4]\n",
        "for i in a:\n",
        "    print(i)\n",
        "#a에 있는 것들을 a에서 i로 처음부터 하나하나씩 받아서 i에서 돌린다."
      ],
      "metadata": {
        "colab": {
          "base_uri": "https://localhost:8080/"
        },
        "id": "_pIqZgodll6E",
        "outputId": "334ea473-a804-4a81-c163-92d0cf339631"
      },
      "execution_count": null,
      "outputs": [
        {
          "output_type": "stream",
          "name": "stdout",
          "text": [
            "1\n",
            "2\n",
            "3\n",
            "4\n"
          ]
        }
      ]
    },
    {
      "cell_type": "code",
      "source": [
        "a = [1, 2, 3, 4]\n",
        "for i in range(len(a)):\n",
        "    print(a[i])\n",
        "#range를 써서 index를 활용하는 것. 여기서 len(a)이 4이므로 결국 for i in range(4)의 의미이다. [0,1,2,3]의 list가 range 속에 만들어지는 것."
      ],
      "metadata": {
        "colab": {
          "base_uri": "https://localhost:8080/"
        },
        "id": "uflbHFiAl0mL",
        "outputId": "16276925-9c5b-4b83-bdab-80c09342f35e"
      },
      "execution_count": null,
      "outputs": [
        {
          "output_type": "stream",
          "name": "stdout",
          "text": [
            "1\n",
            "2\n",
            "3\n",
            "4\n"
          ]
        }
      ]
    },
    {
      "cell_type": "code",
      "source": [
        "a = ['red', 'green', 'blue', 'purple']\n",
        "for i in a:\n",
        "    print(i)"
      ],
      "metadata": {
        "colab": {
          "base_uri": "https://localhost:8080/"
        },
        "id": "X2u6RghYl4LY",
        "outputId": "316a9b06-f845-47fe-ac7e-8c72618a1d26"
      },
      "execution_count": null,
      "outputs": [
        {
          "output_type": "stream",
          "name": "stdout",
          "text": [
            "red\n",
            "green\n",
            "blue\n",
            "purple\n"
          ]
        }
      ]
    },
    {
      "cell_type": "code",
      "source": [
        "a = ['red', 'green', 'blue', 'purple']\n",
        "for i in range(len(a)):\n",
        "    print(a[i])"
      ],
      "metadata": {
        "colab": {
          "base_uri": "https://localhost:8080/"
        },
        "id": "EpM7mMfXl6Ay",
        "outputId": "9853b2de-2c48-4457-da79-ef3045251dcf"
      },
      "execution_count": null,
      "outputs": [
        {
          "output_type": "stream",
          "name": "stdout",
          "text": [
            "red\n",
            "green\n",
            "blue\n",
            "purple\n"
          ]
        }
      ]
    },
    {
      "cell_type": "markdown",
      "source": [
        "조건문 (if)\n",
        "\n",
        "if a==0 (== 두 번 쓰는 것이 ~와 같다면 이런 의미)\n",
        "\n",
        "if a!=0 (!= 은 ~이 아니라면 이런 의미)\n",
        "\n",
        "else는 조건문 이후에 와서 그것이 아니라면~ 이런 의미\n"
      ],
      "metadata": {
        "id": "EuK0zb4uI7T-"
      }
    },
    {
      "cell_type": "code",
      "source": [
        "a = 0\n",
        "if a == 0:\n",
        "    print(a)\n",
        "else:\n",
        "    print(a+1)"
      ],
      "metadata": {
        "colab": {
          "base_uri": "https://localhost:8080/"
        },
        "id": "k1iHyWzfmEew",
        "outputId": "aaf45dce-788c-4f3d-cc87-4d18df47700a"
      },
      "execution_count": null,
      "outputs": [
        {
          "output_type": "stream",
          "name": "stdout",
          "text": [
            "0\n"
          ]
        }
      ]
    },
    {
      "cell_type": "markdown",
      "source": [
        "for을 중첩해서 사용할 수도 있음."
      ],
      "metadata": {
        "id": "x40C3wL7Jk0x"
      }
    },
    {
      "cell_type": "code",
      "source": [
        "for i in range(1, 3):\n",
        "    for j in range(3, 5):\n",
        "        print(i*j)\n",
        "\n",
        "#range(1,3)은 [1,2]\n",
        "#range(3,5)은 [3,4]\n",
        "#여기서는 (1x3) (1x4) (2X3) (2X4) 이렇게 진행"
      ],
      "metadata": {
        "colab": {
          "base_uri": "https://localhost:8080/"
        },
        "id": "-EY-t2GYmFxs",
        "outputId": "60df8d02-da97-4971-afed-80f85750cfc6"
      },
      "execution_count": null,
      "outputs": [
        {
          "output_type": "stream",
          "name": "stdout",
          "text": [
            "3\n",
            "4\n",
            "6\n",
            "8\n"
          ]
        }
      ]
    },
    {
      "cell_type": "code",
      "source": [
        "for i in range(1, 3):\n",
        "    for j in range(3, 5):\n",
        "        if j >=4:\n",
        "            print(i*j)\n",
        "#range(1, 3)=[1,2]\n",
        "#range(3, 5)=[3,4]\n",
        "#1x3 1x4 2x3 2x4 이 중에서 j가 4보다 크거나 동일 (>=) 한 것은 1x4, 2x4\n"
      ],
      "metadata": {
        "colab": {
          "base_uri": "https://localhost:8080/"
        },
        "id": "BaGaqsPZmLGO",
        "outputId": "e7fa0a77-ea64-431c-c673-4b8b242034d7"
      },
      "execution_count": null,
      "outputs": [
        {
          "output_type": "stream",
          "name": "stdout",
          "text": [
            "4\n",
            "8\n"
          ]
        }
      ]
    },
    {
      "cell_type": "code",
      "source": [
        "a = [1, 2, 3, 4]\n",
        "b = [i for i in a if i >=2]  #list 안에 for 문이 있음.\n",
        "b"
      ],
      "metadata": {
        "colab": {
          "base_uri": "https://localhost:8080/"
        },
        "id": "ZqZdQqc0mOjU",
        "outputId": "8627dd1a-275c-49fa-dd2f-aa75d4137e6a"
      },
      "execution_count": null,
      "outputs": [
        {
          "output_type": "execute_result",
          "data": {
            "text/plain": [
              "[2, 3, 4]"
            ]
          },
          "metadata": {},
          "execution_count": 53
        }
      ]
    },
    {
      "cell_type": "code",
      "source": [
        "a = ['red', 'green', 'blue', 'purple']\n",
        "b = [i for i in a if len(i) >=4]\n",
        "b"
      ],
      "metadata": {
        "colab": {
          "base_uri": "https://localhost:8080/"
        },
        "id": "ZqWKZ2zkmSAX",
        "outputId": "acaa8192-38b7-4730-c555-f49546385e07"
      },
      "execution_count": null,
      "outputs": [
        {
          "output_type": "execute_result",
          "data": {
            "text/plain": [
              "['green', 'blue', 'purple']"
            ]
          },
          "metadata": {},
          "execution_count": 54
        }
      ]
    },
    {
      "cell_type": "markdown",
      "source": [
        "< Dict Comprehension >"
      ],
      "metadata": {
        "id": "KY_nDIYKMKlG"
      }
    },
    {
      "cell_type": "code",
      "source": [
        "a = ['red', 'green', 'blue', 'purple']\n",
        "b = [1, 2, 3, 4]\n",
        "c = {a[i]:b[i] for i in range(4)}\n",
        "c\n",
        "\n",
        "#range(4) 면 [0,1,2,3] 이 i로 받아서 i에서 돌리는 것"
      ],
      "metadata": {
        "colab": {
          "base_uri": "https://localhost:8080/"
        },
        "id": "iE00-p7smTpt",
        "outputId": "0cd71243-3ae9-4334-e6b1-286d0e9c9479"
      },
      "execution_count": null,
      "outputs": [
        {
          "output_type": "execute_result",
          "data": {
            "text/plain": [
              "{'blue': 3, 'green': 2, 'purple': 4, 'red': 1}"
            ]
          },
          "metadata": {},
          "execution_count": 55
        }
      ]
    },
    {
      "cell_type": "markdown",
      "source": [
        "- import\n",
        "\n",
        "package를 사용할 수 있게 하는 역할\n",
        "\n",
        "패키지 종류에 따라서 import 하는 과정이 분류가 된다.\n",
        "1. import만 해오면 됨 (ex. numpy처럼 유명한 패키지)\n",
        "2. install 을 해야하는 것 (유명하지 않은 패키지/ install 먼저하고 import하기)\n",
        "3. built-in 되어있는 패키지 (print, len 같은 것/ import할 필요도 없음)\n"
      ],
      "metadata": {
        "id": "MHoMC1DCNgPF"
      }
    },
    {
      "cell_type": "markdown",
      "source": [
        "- Numpy (package 중에 하나)\n",
        ": 수치적인 작업을 할 때 (행렬로 숫자, 숫자로 통계처리등)\n",
        "\n",
        "AI, 데이터사이언스에 가장 중요한 패키지\n",
        "\n",
        "numpy 안에서 함수 function 이 있어서 그것을 쓰고 싶으면 지정을 하는 과정을 배울 것임.\n",
        "\n"
      ],
      "metadata": {
        "id": "doYznpdPO3ke"
      }
    },
    {
      "cell_type": "code",
      "source": [
        "import numpy as np\n",
        "#위처럼 쓰면, np라고만 앞으로 써도 ok\n",
        "n = np.random.randn(100)\n",
        "#randn이라는 함수는 100개의 랜덤넘버 형성 가능/ 평균이 0, 표준편차가 1 인 것들로."
      ],
      "metadata": {
        "id": "gIKWIhVmOoX-"
      },
      "execution_count": 1,
      "outputs": []
    },
    {
      "cell_type": "code",
      "source": [
        "#방법1\n",
        "\n",
        "import matplotlib\n",
        "matplotlib.pyplot.hist(n)\n",
        "\n",
        "#hist라는 function은 히스토그램이 형성되는 것.\n",
        "#랜덤넘버의 구간별 빈도수(frequency)도 나타남.\n",
        "#pyplot이라는 안의 방을 지정하는 것."
      ],
      "metadata": {
        "colab": {
          "base_uri": "https://localhost:8080/",
          "height": 359
        },
        "id": "e1GhH1l-OuuA",
        "outputId": "8121865e-fee1-4c70-d1f5-0964f73071b2"
      },
      "execution_count": 2,
      "outputs": [
        {
          "output_type": "execute_result",
          "data": {
            "text/plain": [
              "(array([ 2.,  5., 11., 19., 15., 20., 12.,  9.,  6.,  1.]),\n",
              " array([-2.49645817, -1.98146126, -1.46646434, -0.95146743, -0.43647051,\n",
              "         0.0785264 ,  0.59352332,  1.10852023,  1.62351715,  2.13851406,\n",
              "         2.65351098]),\n",
              " <a list of 10 Patch objects>)"
            ]
          },
          "metadata": {},
          "execution_count": 2
        },
        {
          "output_type": "display_data",
          "data": {
            "text/plain": [
              "<Figure size 432x288 with 1 Axes>"
            ],
            "image/png": "[encoded data removed]"
          },
          "metadata": {
            "needs_background": "light"
          }
        }
      ]
    },
    {
      "cell_type": "code",
      "source": [
        "#방법2\n",
        "#아예 import 뒤에 pyplot 이라는 하위 디렉토리까지 설정할 수 있음. (많이 사용은 안함.)\n",
        "import matplotlib.pyplot\n",
        "matplotlib.pyplot.hist(n)"
      ],
      "metadata": {
        "colab": {
          "base_uri": "https://localhost:8080/",
          "height": 359
        },
        "id": "1_0kkdLHPAGW",
        "outputId": "3f1636ee-0165-47b3-e23f-96bf0318a36a"
      },
      "execution_count": 3,
      "outputs": [
        {
          "output_type": "execute_result",
          "data": {
            "text/plain": [
              "(array([ 2.,  5., 11., 19., 15., 20., 12.,  9.,  6.,  1.]),\n",
              " array([-2.49645817, -1.98146126, -1.46646434, -0.95146743, -0.43647051,\n",
              "         0.0785264 ,  0.59352332,  1.10852023,  1.62351715,  2.13851406,\n",
              "         2.65351098]),\n",
              " <a list of 10 Patch objects>)"
            ]
          },
          "metadata": {},
          "execution_count": 3
        },
        {
          "output_type": "display_data",
          "data": {
            "text/plain": [
              "<Figure size 432x288 with 1 Axes>"
            ],
            "image/png": "[encoded data removed]"
          },
          "metadata": {
            "needs_background": "light"
          }
        }
      ]
    },
    {
      "cell_type": "code",
      "source": [
        "#방법3\n",
        "#plt 으로 축약하는 방법도 있음.\n",
        "\n",
        "import matplotlib.pyplot as plt\n",
        "plt.hist(n)"
      ],
      "metadata": {
        "colab": {
          "base_uri": "https://localhost:8080/",
          "height": 359
        },
        "id": "v-6tpaEzPOQz",
        "outputId": "4e90b0c1-92e5-43ee-bc68-d1f244e32b17"
      },
      "execution_count": 4,
      "outputs": [
        {
          "output_type": "execute_result",
          "data": {
            "text/plain": [
              "(array([ 2.,  5., 11., 19., 15., 20., 12.,  9.,  6.,  1.]),\n",
              " array([-2.49645817, -1.98146126, -1.46646434, -0.95146743, -0.43647051,\n",
              "         0.0785264 ,  0.59352332,  1.10852023,  1.62351715,  2.13851406,\n",
              "         2.65351098]),\n",
              " <a list of 10 Patch objects>)"
            ]
          },
          "metadata": {},
          "execution_count": 4
        },
        {
          "output_type": "display_data",
          "data": {
            "text/plain": [
              "<Figure size 432x288 with 1 Axes>"
            ],
            "image/png": "[encoded data removed]"
          },
          "metadata": {
            "needs_background": "light"
          }
        }
      ]
    },
    {
      "cell_type": "markdown",
      "source": [
        "from import를 쓰면 import as처럼 축약해서 부를 수 있는 효과가 있음."
      ],
      "metadata": {
        "id": "eV_9e59RPToz"
      }
    },
    {
      "cell_type": "code",
      "source": [
        "#방법4\n",
        "\n",
        "from matplotlib import pyplot\n",
        "pyplot.hist(n)"
      ],
      "metadata": {
        "colab": {
          "base_uri": "https://localhost:8080/",
          "height": 359
        },
        "id": "m-Lg6PLJPVs5",
        "outputId": "51213268-c3cf-48c8-fc73-4e89c08f9545"
      },
      "execution_count": 5,
      "outputs": [
        {
          "output_type": "execute_result",
          "data": {
            "text/plain": [
              "(array([ 2.,  5., 11., 19., 15., 20., 12.,  9.,  6.,  1.]),\n",
              " array([-2.49645817, -1.98146126, -1.46646434, -0.95146743, -0.43647051,\n",
              "         0.0785264 ,  0.59352332,  1.10852023,  1.62351715,  2.13851406,\n",
              "         2.65351098]),\n",
              " <a list of 10 Patch objects>)"
            ]
          },
          "metadata": {},
          "execution_count": 5
        },
        {
          "output_type": "display_data",
          "data": {
            "text/plain": [
              "<Figure size 432x288 with 1 Axes>"
            ],
            "image/png": "[encoded data removed]"
          },
          "metadata": {
            "needs_background": "light"
          }
        }
      ]
    },
    {
      "cell_type": "code",
      "source": [
        "#방법5\n",
        "\n",
        "from matplotlib.pyplot import hist\n",
        "hist(n)"
      ],
      "metadata": {
        "colab": {
          "base_uri": "https://localhost:8080/",
          "height": 359
        },
        "id": "mMYrk_cGPaYc",
        "outputId": "1056ea68-3059-4c0d-85be-066680b3de9c"
      },
      "execution_count": 6,
      "outputs": [
        {
          "output_type": "execute_result",
          "data": {
            "text/plain": [
              "(array([ 2.,  5., 11., 19., 15., 20., 12.,  9.,  6.,  1.]),\n",
              " array([-2.49645817, -1.98146126, -1.46646434, -0.95146743, -0.43647051,\n",
              "         0.0785264 ,  0.59352332,  1.10852023,  1.62351715,  2.13851406,\n",
              "         2.65351098]),\n",
              " <a list of 10 Patch objects>)"
            ]
          },
          "metadata": {},
          "execution_count": 6
        },
        {
          "output_type": "display_data",
          "data": {
            "text/plain": [
              "<Figure size 432x288 with 1 Axes>"
            ],
            "image/png": "[encoded data removed]"
          },
          "metadata": {
            "needs_background": "light"
          }
        }
      ]
    },
    {
      "cell_type": "markdown",
      "source": [
        "- numpy.matplotlib\n",
        "\n",
        "numpy: 숫자를 다룸\n",
        "\n",
        "matplotlib: 숫자를 이미지로\n",
        "\n",
        "두 패키지를 한 번에 해볼 것.\n"
      ],
      "metadata": {
        "id": "b_fnN_mKT1Ue"
      }
    },
    {
      "cell_type": "markdown",
      "source": [
        "*참고\n",
        "-matrix (행렬) (N-dimesion array)\n",
        "\n",
        "한줄짜리: 1d\n",
        "\n",
        "두줄짜리: 2d\n",
        "\n",
        "입체로 3d 그 이후에 4d,5d 도 가능함."
      ],
      "metadata": {
        "id": "CpuXu3_CXbLp"
      }
    },
    {
      "cell_type": "code",
      "source": [
        "import numpy as np"
      ],
      "metadata": {
        "id": "dxfkpDUuUp_2"
      },
      "execution_count": 7,
      "outputs": []
    },
    {
      "cell_type": "code",
      "source": [
        "x = np.array([1,2,3])\n",
        "#list 자체로는 계산이 안되기에 array로 바꾸기\n",
        "print(x)\n",
        "print(type(x))\n",
        "print(x.shape)\n",
        "#x.shape의 결과를 통해서 3개짜리 1d짜리 array가 만들어졌음을 알 수 있음."
      ],
      "metadata": {
        "colab": {
          "base_uri": "https://localhost:8080/"
        },
        "id": "qz0mS2mZUrv9",
        "outputId": "e69373b6-f396-4125-d6d9-8ca48dff53fe"
      },
      "execution_count": 8,
      "outputs": [
        {
          "output_type": "stream",
          "name": "stdout",
          "text": [
            "[1 2 3]\n",
            "<class 'numpy.ndarray'>\n",
            "(3,)\n"
          ]
        }
      ]
    },
    {
      "cell_type": "code",
      "source": [
        "x = np.arange(0,10,2)\n",
        "#0부터 10미만 중에서 2까지 증가되는 것을 나타내는 것.\n",
        "print(x)\n",
        "print(type(x))\n",
        "print(x.shape)\n",
        "#x.shape의 결과를 통해서 5개짜리 1d짜리 array가 만들어졌음을 알 수 있음."
      ],
      "metadata": {
        "colab": {
          "base_uri": "https://localhost:8080/"
        },
        "id": "0xiSM-JAUyje",
        "outputId": "4bf72d8e-1947-472e-d362-9144bf7dd385"
      },
      "execution_count": 9,
      "outputs": [
        {
          "output_type": "stream",
          "name": "stdout",
          "text": [
            "[0 2 4 6 8]\n",
            "<class 'numpy.ndarray'>\n",
            "(5,)\n"
          ]
        }
      ]
    },
    {
      "cell_type": "code",
      "source": [
        "x = np.linspace(0,10,6)\n",
        "#0부터 10포함되는 것 중에서 2까지 증가되는 것을 나타내는 것.\n",
        "print(x)\n",
        "print(type(x))\n",
        "print(x.shape)"
      ],
      "metadata": {
        "colab": {
          "base_uri": "https://localhost:8080/"
        },
        "id": "apfPNSaZU4Jr",
        "outputId": "c12bf074-cbe8-4456-d60c-dba009ceada0"
      },
      "execution_count": 28,
      "outputs": [
        {
          "output_type": "stream",
          "name": "stdout",
          "text": [
            "[ 0.  2.  4.  6.  8. 10.]\n",
            "<class 'numpy.ndarray'>\n",
            "(6,)\n"
          ]
        }
      ]
    },
    {
      "cell_type": "code",
      "source": [
        "x = np.array([[1,2,3], [4,5,6]])\n",
        "#리스트가 이중으로 123 한층 456 한층 이렇게 제작된 것임.\n",
        "print(x)\n",
        "print(type(x))\n",
        "print(x.shape)\n",
        "#print(x.shape) 하게 되면, 2,3 이 나오게 되는데 이건 행이 2개, 열이 3개라는 의미"
      ],
      "metadata": {
        "colab": {
          "base_uri": "https://localhost:8080/"
        },
        "id": "GTkgGU-mU8yG",
        "outputId": "291ebd8e-f1d0-4358-f164-867798d30253"
      },
      "execution_count": 31,
      "outputs": [
        {
          "output_type": "stream",
          "name": "stdout",
          "text": [
            "[[1 2 3]\n",
            " [4 5 6]]\n",
            "<class 'numpy.ndarray'>\n",
            "(2, 3)\n"
          ]
        }
      ]
    },
    {
      "cell_type": "code",
      "source": [
        "x = np.array([[[1,2,3], [4,5,6]], [[7,8,9], [10,11,12]]])\n",
        "print(x)\n",
        "#3d 구조라는 것은 처음에 시작하는 [[[ 구조를 보고도 알 수 있음.\n",
        "print(type(x))\n",
        "print(x.shape)"
      ],
      "metadata": {
        "colab": {
          "base_uri": "https://localhost:8080/"
        },
        "id": "JeOV5yeGVCSf",
        "outputId": "60db5c6d-19f4-4589-ed05-f945220a404b"
      },
      "execution_count": 12,
      "outputs": [
        {
          "output_type": "stream",
          "name": "stdout",
          "text": [
            "[[[ 1  2  3]\n",
            "  [ 4  5  6]]\n",
            "\n",
            " [[ 7  8  9]\n",
            "  [10 11 12]]]\n",
            "<class 'numpy.ndarray'>\n",
            "(2, 2, 3)\n"
          ]
        }
      ]
    },
    {
      "cell_type": "code",
      "source": [
        "x = np.ones([2, 2, 3])\n",
        "#1로 채워지는 경우임, 3d 구조\n",
        "print(x)\n",
        "print(type(x))\n",
        "print(x.shape)"
      ],
      "metadata": {
        "colab": {
          "base_uri": "https://localhost:8080/"
        },
        "id": "IvMj0at6VHFI",
        "outputId": "897a156d-10b2-43da-cae6-4c9ce8951f0b"
      },
      "execution_count": 13,
      "outputs": [
        {
          "output_type": "stream",
          "name": "stdout",
          "text": [
            "[[[1. 1. 1.]\n",
            "  [1. 1. 1.]]\n",
            "\n",
            " [[1. 1. 1.]\n",
            "  [1. 1. 1.]]]\n",
            "<class 'numpy.ndarray'>\n",
            "(2, 2, 3)\n"
          ]
        }
      ]
    },
    {
      "cell_type": "code",
      "source": [
        "x = np.zeros([2, 2, 3])\n",
        "#0으로 채워지는 경우임, 3d 구조\n",
        "print(x)\n",
        "print(type(x))\n",
        "print(x.shape)\n",
        "x.reshape(3,2,2)"
      ],
      "metadata": {
        "colab": {
          "base_uri": "https://localhost:8080/"
        },
        "id": "WE4_JIPjVItD",
        "outputId": "44b0bc67-7021-420b-e39a-a757f47a82ec"
      },
      "execution_count": 29,
      "outputs": [
        {
          "output_type": "stream",
          "name": "stdout",
          "text": [
            "[[[0. 0. 0.]\n",
            "  [0. 0. 0.]]\n",
            "\n",
            " [[0. 0. 0.]\n",
            "  [0. 0. 0.]]]\n",
            "<class 'numpy.ndarray'>\n",
            "(2, 2, 3)\n"
          ]
        },
        {
          "output_type": "execute_result",
          "data": {
            "text/plain": [
              "array([[[0., 0.],\n",
              "        [0., 0.]],\n",
              "\n",
              "       [[0., 0.],\n",
              "        [0., 0.]],\n",
              "\n",
              "       [[0., 0.],\n",
              "        [0., 0.]]])"
            ]
          },
          "metadata": {},
          "execution_count": 29
        }
      ]
    },
    {
      "cell_type": "markdown",
      "source": [
        "create random numbers "
      ],
      "metadata": {
        "id": "csjoyYE3VrKz"
      }
    },
    {
      "cell_type": "code",
      "source": [
        "np.random.normal(0, 1, [2,3,4])\n",
        "#0은 여기서 평균값 (mean), [2,3,4] 이런 구조로 된다는 것 (nd arrary)-> 가운데에 3은  3d 구조 라는 의미 (행:2/열:4)"
      ],
      "metadata": {
        "colab": {
          "base_uri": "https://localhost:8080/"
        },
        "id": "NRaRNciLVrxo",
        "outputId": "8b25f66c-c53b-480e-96f2-9efe2ed1ad41"
      },
      "execution_count": 32,
      "outputs": [
        {
          "output_type": "execute_result",
          "data": {
            "text/plain": [
              "array([[[ 0.35009291, -0.00313386, -1.20190002,  0.74678645],\n",
              "        [-0.86456511, -0.49555994, -1.03727023, -0.91502538],\n",
              "        [ 0.67124394,  0.31495649,  0.55196846, -0.94645814]],\n",
              "\n",
              "       [[ 1.07939768,  0.60890379,  2.59065582, -0.09797805],\n",
              "        [-0.98456739,  1.16486119,  0.02231009, -0.42339582],\n",
              "        [-0.86646904,  1.10434053,  1.74628287, -0.27502433]]])"
            ]
          },
          "metadata": {},
          "execution_count": 32
        }
      ]
    },
    {
      "cell_type": "code",
      "source": [
        "import matplotlib.pyplot as plt\n",
        "#이름을 우선 간단히 줄여놓자 "
      ],
      "metadata": {
        "id": "KA5rmS_QVuYH"
      },
      "execution_count": 24,
      "outputs": []
    },
    {
      "cell_type": "code",
      "source": [
        "x = np.random.normal(0, 1, 100)\n",
        "#긴 한줄의 숫자가 행:0/열:100/1d구조 로 있다는 의미임.\n",
        "print(x)\n",
        "plt.hist(x, bins=10)\n",
        "#nd array를 히스토그램으로 나타낼 수 있게 도와주는 hist 함수/bins:통들이 10개"
      ],
      "metadata": {
        "colab": {
          "base_uri": "https://localhost:8080/",
          "height": 676
        },
        "id": "EA4VHxs2Vyx9",
        "outputId": "0a527c28-f676-4063-a74f-4d8cbc39171a"
      },
      "execution_count": 25,
      "outputs": [
        {
          "output_type": "stream",
          "name": "stdout",
          "text": [
            "[-0.58580289  2.50101541 -1.07866441 -1.0712076   0.56222246  0.20061944\n",
            " -0.23766494 -0.38258573  0.0895382  -0.42324666  0.20103191 -2.28363668\n",
            "  0.82354402 -0.01997022 -0.96839925  0.50875562 -2.552005   -0.81774022\n",
            "  0.59313686  1.51121872 -0.59223855 -0.53153453 -0.88796532 -0.56915698\n",
            " -1.79453796 -1.19498095 -0.74400905 -0.91208209 -0.20306737  0.50413898\n",
            " -0.10128261 -0.4660631  -0.48984548  0.09346075 -1.2978801   2.28029126\n",
            " -0.11426819 -1.0225151  -0.0074152  -0.69509087  0.79108822 -0.70452351\n",
            "  0.63092006  0.85453094  1.00135275  1.99557201 -0.34322883 -1.15307529\n",
            "  0.80873734  0.38282815 -0.11255316 -0.28325018  0.83921471 -1.24106995\n",
            " -1.07114259  0.64909786  0.31405423 -1.27155727 -0.58352681 -0.02183747\n",
            " -1.13672143  0.74797853  0.36851486 -0.92362071  0.90712528 -0.2021381\n",
            " -0.2799584  -1.04898789 -0.66946038  0.02726576  0.68350723  1.0385098\n",
            " -0.19194455  0.5685917   1.37050601 -0.85722939  1.3437788   0.03461837\n",
            " -0.25532751  0.86636658 -2.52657331  0.75142703  2.08497051  0.67589012\n",
            "  0.05938167 -0.3100371   0.57794834  0.17448019 -1.76890552  2.00713307\n",
            "  0.17524321  0.6278272   1.65546464 -0.37458058 -1.45338637  0.2164353\n",
            "  1.17661552  1.22668155  0.56617652 -2.1909425 ]\n"
          ]
        },
        {
          "output_type": "execute_result",
          "data": {
            "text/plain": [
              "(array([ 4.,  2., 11., 16., 17., 16., 21.,  6.,  3.,  4.]),\n",
              " array([-2.552005  , -2.04670296, -1.54140092, -1.03609888, -0.53079684,\n",
              "        -0.0254948 ,  0.47980725,  0.98510929,  1.49041133,  1.99571337,\n",
              "         2.50101541]),\n",
              " <a list of 10 Patch objects>)"
            ]
          },
          "metadata": {},
          "execution_count": 25
        },
        {
          "output_type": "display_data",
          "data": {
            "text/plain": [
              "<Figure size 432x288 with 1 Axes>"
            ],
            "image/png": "[encoded data removed]"
          },
          "metadata": {
            "needs_background": "light"
          }
        }
      ]
    },
    {
      "cell_type": "markdown",
      "source": [
        "generate a sine curve"
      ],
      "metadata": {
        "id": "6saclfLkV3z8"
      }
    },
    {
      "cell_type": "code",
      "source": [
        "plt.figure()\n",
        "#figure 함수 (공간이 잡히게 해주는 함수)\n",
        "\n",
        "theta1 = np.linspace(0, 2*np.pi, 100)\n",
        "#0부터 2파이(360도)까지(포함) 중에서 100개의 숫자를 만드는 것. 여기서 theta1이 입력값(각도를 라디안으로 만들어놓음)\n",
        "#단골시험문제로 theta1 안에 숫자 몇 개? 물어보는 것 나옴\n",
        "s1 = np.sin(theta1)\n",
        "#s1이 출력값. sin이 함수이고 안에 theta1 이 라디안으로 들어가게 됨. (360도)\n",
        "#단골시험문제로 s1의 1d array 숫자의 개수는? 이런 것 나옴 (100개)\n",
        "theta2 = np.linspace(0, 2*np.pi, 100) + np.pi/2\n",
        "#0부터 2파이(360도)까지인것을 1/2파이 만큼 이동시켰으므로 결론은 90도부터 450도까지 중에 숫자 100개\n",
        "s2 = np.sin(theta2)\n",
        "#s2이 출력값\n",
        "\n",
        "plt.subplot(2, 1, 1) # (rows, columns, panel number) 마지막 1은 둘 중에 하나 그리라는 뜻\n",
        "plt.plot(theta1, s1, '.') # (x값(100개), y값, 점으로 그려라)(SIN함수)\n",
        "plt.subplot(2, 1, 2) # (rows, columns, panel number)\n",
        "plt.plot(theta2, s2, '.') # (x값(100개), y값, 점으로 그려라)(SIN함수에서 90도 이동한 버전)"
      ],
      "metadata": {
        "colab": {
          "base_uri": "https://localhost:8080/",
          "height": 284
        },
        "id": "5qu2NSoRV4dM",
        "outputId": "75de4192-65cb-4441-ce6e-ed797ee996ca"
      },
      "execution_count": 26,
      "outputs": [
        {
          "output_type": "execute_result",
          "data": {
            "text/plain": [
              "[<matplotlib.lines.Line2D at 0x7fd7121e0390>]"
            ]
          },
          "metadata": {},
          "execution_count": 26
        },
        {
          "output_type": "display_data",
          "data": {
            "text/plain": [
              "<Figure size 432x288 with 2 Axes>"
            ],
            "image/png": "[encoded data removed]"
          },
          "metadata": {
            "needs_background": "light"
          }
        }
      ]
    },
    {
      "cell_type": "markdown",
      "source": [
        "*correlation 비례\n",
        "coefficient\n",
        "\n",
        "값이 -1부터 1까지 (-1=<r=<1)\n",
        "\n",
        "두가지의 그래프가 있을 때에도 \n",
        "\n",
        "r의 절대값이 1에 가까워질수록 fit한 모양\n",
        "\n",
        "r의 절대값이 0에 가까워질수록 두루뭉술한 모양\n",
        "\n",
        "np correlation에서 s1,s2가 있는 상황인 것 (s1이 x축, s2가 y축)"
      ],
      "metadata": {
        "id": "N0h2Dhqh42yX"
      }
    },
    {
      "cell_type": "code",
      "source": [
        "np.corrcoef(s1,s2)"
      ],
      "metadata": {
        "colab": {
          "base_uri": "https://localhost:8080/"
        },
        "id": "PF2ASX2GV9Ap",
        "outputId": "cf5f10c7-0082-4ad3-fb0d-836394f9e61b"
      },
      "execution_count": 27,
      "outputs": [
        {
          "output_type": "execute_result",
          "data": {
            "text/plain": [
              "array([[1.00000000e+00, 2.41915449e-17],\n",
              "       [2.41915449e-17, 1.00000000e+00]])"
            ]
          },
          "metadata": {},
          "execution_count": 27
        }
      ]
    },
    {
      "cell_type": "markdown",
      "source": [
        "위의 네개의 숫자 중에서 오른쪽 상단과 왼쪽 하단의 값은 같은데, 그 둘 중에 하나만 보면 의미를 알 수 있음. (왼쪽 상단과 오른쪽 하단은 어차피 1이니 무시)\n",
        "\n",
        "2.41915449e-17 의 의미는 10의 -17승에다가 어떤 숫자를 곱했다는 의미임. \n",
        "\n",
        "값은 사실 상 0일 것."
      ],
      "metadata": {
        "id": "7t4t5Nze5mmj"
      }
    }
  ]
}