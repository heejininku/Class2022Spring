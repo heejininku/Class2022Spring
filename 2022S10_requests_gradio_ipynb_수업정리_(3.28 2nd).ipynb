{
  "cells": [
    {
      "cell_type": "markdown",
      "metadata": {
        "id": "view-in-github",
        "colab_type": "text"
      },
      "source": [
        "<a href=\"https://colab.research.google.com/github/heejininku/Class2022Spring/blob/main/2022S10_requests_gradio_ipynb_%EC%88%98%EC%97%85%EC%A0%95%EB%A6%AC_(3.28%202nd).ipynb\" target=\"_parent\"><img src=\"https://colab.research.google.com/assets/colab-badge.svg\" alt=\"Open In Colab\"/></a>"
      ]
    },
    {
      "cell_type": "markdown",
      "metadata": {
        "id": "CbqjYBDzZG2R"
      },
      "source": [
        "저번에 api를 그라디오로 어떻게 연결하는지 볼 것임."
      ]
    },
    {
      "cell_type": "code",
      "execution_count": null,
      "metadata": {
        "id": "8eZHGJhmqd9a"
      },
      "outputs": [],
      "source": [
        "!pip install gradio\n",
        "import gradio as gr\n",
        "import requests\n",
        "import pandas as pd"
      ]
    },
    {
      "cell_type": "code",
      "execution_count": null,
      "metadata": {
        "id": "lHHEwqpyJF7r"
      },
      "outputs": [],
      "source": [
        "URL = ('http://apis.data.go.kr/B552584/ArpltnStatsSvc/'\n",
        "      'getCtprvnMesureSidoLIst?'\n",
        "      'sidoName=서울'\n",
        "      '&searchCondition=hour'\n",
        "      '&pageNo=1'\n",
        "      '&numOfRows=100'\n",
        "      '&returnType=json'\n",
        "      '&serviceKey=miH%2BZXg85lQy4%2FkmhffvygXDIFiTwisriSLxtyECSzw6hxTVK7yI8QKIOc7mP7LEqCnhBGuj6iW1gZW65dum7A%3D%3D')\n",
        "response = requests.get(URL)"
      ]
    },
    {
      "cell_type": "markdown",
      "metadata": {
        "id": "faIENRyFfnY1"
      },
      "source": [
        "#### http://jsonviewer.stack.hu/ (copy json here to view json)\n",
        "아래의 셀의 출력값을 복사해서 위의 주소로 붙여넣기를 한다면, json 의 structure을 알 수 있을 것이다."
      ]
    },
    {
      "cell_type": "code",
      "execution_count": null,
      "metadata": {
        "id": "JcLKwg0foR9p"
      },
      "outputs": [],
      "source": [
        "r = response.json()\n",
        "r"
      ]
    },
    {
      "cell_type": "code",
      "execution_count": null,
      "metadata": {
        "id": "W8lA0-IzE55W"
      },
      "outputs": [],
      "source": [
        "items = r['response']['body']['items']\n",
        "\n",
        "cityName = [item['cityName'] for item in items]\n",
        "pm10Value = [item['pm10Value'] for item in items]\n",
        "pm25Value = [item['pm25Value'] for item in items]\n",
        "so2Value = [item['so2Value'] for item in items]\n",
        "coValue = [item['coValue'] for item in items]\n",
        "o3Value = [item['o3Value'] for item in items]\n",
        "no2Value = [item['no2Value'] for item in items]\n",
        "\n",
        "cityName = pd.Series(cityName)\n",
        "pm10Value = pd.Series(pm10Value)   \n",
        "pm25Value = pd.Series(pm25Value)\n",
        "so2Value = pd.Series(so2Value)\n",
        "coValue = pd.Series(coValue)\n",
        "o3Value = pd.Series(o3Value)\n",
        "no2Value = pd.Series(no2Value)\n",
        "\n",
        "df = pd.DataFrame({ 'cityName': cityName, 'pm10Value': pm10Value, 'pm25Value': pm25Value, 'so2Value': so2Value, 'coValue': coValue, 'o3Value': o3Value, 'no2Value': no2Value})"
      ]
    },
    {
      "cell_type": "markdown",
      "metadata": {
        "id": "NbpshL4jPNzS"
      },
      "source": [
        "저번시간에 했음 . api를 적절한 url을 보내서 적절한 response를 받아오는 것까지 했음.\n",
        "\n",
        "그런데 우리가 이것을 gradio에서 웹 데모를 하려면 function의 형태로 해야함.\n",
        "입력으로 광역지방자체단체명(ex. 서울,강원도)을 주면 출력으로 아래에 구 들이 나오는 것."
      ]
    },
    {
      "cell_type": "code",
      "execution_count": null,
      "metadata": {
        "id": "xa2Gb_qsm_G5"
      },
      "outputs": [],
      "source": [
        "#함수로 만든 것임\n",
        "def test(sidoName): #입력값으로 무엇을 받아도 되게 함수로 만드는 것.\n",
        "  URL = ('http://apis.data.go.kr/B552584/ArpltnStatsSvc/'\n",
        "      'getCtprvnMesureSidoLIst?'\n",
        "      'sidoName='+sidoName+\n",
        "      '&searchCondition=hour'\n",
        "      '&pageNo=1'\n",
        "      '&numOfRows=100'\n",
        "      '&returnType=json'\n",
        "      '&serviceKey=miH%2BZXg85lQy4%2FkmhffvygXDIFiTwisriSLxtyECSzw6hxTVK7yI8QKIOc7mP7LEqCnhBGuj6iW1gZW65dum7A%3D%3D')\n",
        "  \n",
        "  response = requests.get(URL)\n",
        "  r = response.json()\n",
        "  items = r['response']['body']['items']\n",
        "\n",
        "  cityName = [item['cityName'] for item in items]\n",
        "  pm10Value = [item['pm10Value'] for item in items]\n",
        "  pm25Value = [item['pm25Value'] for item in items]\n",
        "  so2Value = [item['so2Value'] for item in items]\n",
        "  coValue = [item['coValue'] for item in items]\n",
        "  o3Value = [item['o3Value'] for item in items]\n",
        "  no2Value = [item['no2Value'] for item in items]\n",
        "\n",
        "  cityName = pd.Series(cityName)\n",
        "  pm10Value = pd.Series(pm10Value)   \n",
        "  pm25Value = pd.Series(pm25Value)\n",
        "  so2Value = pd.Series(so2Value)\n",
        "  coValue = pd.Series(coValue)\n",
        "  o3Value = pd.Series(o3Value)\n",
        "  no2Value = pd.Series(no2Value)\n",
        "\n",
        "  df = pd.DataFrame({ 'cityName': cityName, 'pm10Value': pm10Value, 'pm25Value': pm25Value, 'so2Value': so2Value, 'coValue': coValue, 'o3Value': o3Value, 'no2Value': no2Value})\n",
        "  return df\n",
        "  #결국 서울,부산, 대구 등만 주면, 그것에 대한 df를 뽑아다주는 함수를 만들었다고 할 수 있음."
      ]
    },
    {
      "cell_type": "markdown",
      "metadata": {
        "id": "YcXd1nBrUymE"
      },
      "source": [
        "iface = gr.Interface(test, gr.inputs.Dropdown 을 사용할 것.\n",
        "아까 첫번째 수업정리한 것을 보면 알 수 있을텐데 iface = gr.Interface (함수명, 입력값) 이렇게 쓰는 건데 지금은 입력값을 더욱 정교하게 써야했기에 inputs.Dropdown ---- 이렇게 길게 적은 것임.\n",
        "\n",
        "출력값은 dataframe으로 설정한 것임.\n",
        "그라디오 들어가서 dropdown 설명이 있음. (써보면 알 것이다)\n",
        "\n",
        "이러고 이제 실행만 하면 된다."
      ]
    },
    {
      "cell_type": "code",
      "execution_count": null,
      "metadata": {
        "colab": {
          "background_save": true,
          "base_uri": "https://localhost:8080/",
          "height": 595
        },
        "id": "kxORJVPOnDSP",
        "outputId": "24c63df6-bdd4-4d03-f7d3-0b96da6a7428"
      },
      "outputs": [
        {
          "name": "stdout",
          "output_type": "stream",
          "text": [
            "Colab notebook detected. This cell will run indefinitely so that you can see errors and logs. To turn off, set debug=False in launch().\n",
            "Running on public URL: https://21479.gradio.app\n",
            "\n",
            "This share link expires in 72 hours. For free permanent hosting, check out Spaces (https://huggingface.co/spaces)\n"
          ]
        },
        {
          "data": {
            "text/html": [
              "\n",
              "        <iframe\n",
              "            width=\"900\"\n",
              "            height=\"500\"\n",
              "            src=\"https://21479.gradio.app\"\n",
              "            frameborder=\"0\"\n",
              "            allowfullscreen\n",
              "        ></iframe>\n",
              "        "
            ],
            "text/plain": [
              "<IPython.lib.display.IFrame at 0x7f0ab5197090>"
            ]
          },
          "metadata": {},
          "output_type": "display_data"
        }
      ],
      "source": [
        "iface = gr.Interface(test, gr.inputs.Dropdown(['서울', '부산', '대구', '인천', '광주', '대전', '울산', '경기', '강원', '충북', '충남', '전북', '전남', '경북', '경남', '제주', '세종']), outputs=['dataframe'])\n",
        "iface.launch(debug=True)"
      ]
    }
  ],
  "metadata": {
    "colab": {
      "provenance": [],
      "include_colab_link": true
    },
    "kernelspec": {
      "display_name": "Python 3",
      "name": "python3"
    },
    "language_info": {
      "name": "python"
    }
  },
  "nbformat": 4,
  "nbformat_minor": 0
}