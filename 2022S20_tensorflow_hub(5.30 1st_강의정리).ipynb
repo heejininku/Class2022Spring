{
  "nbformat": 4,
  "nbformat_minor": 0,
  "metadata": {
    "colab": {
      "provenance": [],
      "include_colab_link": true
    },
    "kernelspec": {
      "name": "python3",
      "display_name": "Python 3"
    },
    "language_info": {
      "name": "python"
    }
  },
  "cells": [
    {
      "cell_type": "markdown",
      "metadata": {
        "id": "view-in-github",
        "colab_type": "text"
      },
      "source": [
        "<a href=\"https://colab.research.google.com/github/heejininku/Class2022Spring/blob/main/2022S20_tensorflow_hub(5.30%201st_%EA%B0%95%EC%9D%98%EC%A0%95%EB%A6%AC).ipynb\" target=\"_parent\"><img src=\"https://colab.research.google.com/assets/colab-badge.svg\" alt=\"Open In Colab\"/></a>"
      ]
    },
    {
      "cell_type": "markdown",
      "source": [
        "### [Tensorflow Hub](https://www.tensorflow.org/hub)"
      ],
      "metadata": {
        "id": "8dnF4rJPatAo"
      }
    },
    {
      "cell_type": "markdown",
      "source": [
        "### image classification (e.g. [inception_v3](https://tfhub.dev/google/imagenet/inception_v3/classification/5))"
      ],
      "metadata": {
        "id": "soPd171Hbbma"
      }
    },
    {
      "cell_type": "code",
      "source": [
        "import tensorflow.compat.v2 as tf\n",
        "import tensorflow_hub as hub"
      ],
      "metadata": {
        "id": "VIJXaAwQ9lXX"
      },
      "execution_count": null,
      "outputs": []
    },
    {
      "cell_type": "code",
      "source": [
        "model = hub.KerasLayer(\"https://tfhub.dev/google/imagenet/inception_v3/classification/5\") \n",
        "#이 모델이 함수같이 쓰이는 것."
      ],
      "metadata": {
        "id": "vmzDkBCZZMF-"
      },
      "execution_count": null,
      "outputs": []
    },
    {
      "cell_type": "code",
      "source": [
        "from PIL import Image #이미지 관련 라이브러리\n",
        "import requests\n",
        "url = 'http://images.cocodataset.org/val2017/000000039769.jpg' \n",
        "#고양이 그림을  url로 지정해서 이미지로 받아오는것.\n",
        "image = Image.open(requests.get(url, stream=True).raw)"
      ],
      "metadata": {
        "id": "f3ztc_fNX79F"
      },
      "execution_count": null,
      "outputs": []
    },
    {
      "cell_type": "code",
      "source": [
        "import numpy as np \n",
        "#numpy 형태로 array화 해주어야 함.\n",
        "image = np.array(image) #이제 image 드래그 해보면 숫자가 나옴. (맨 끝이 3- 컬러니까)"
      ],
      "metadata": {
        "id": "Bqm9LV1rC4eK"
      },
      "execution_count": null,
      "outputs": []
    },
    {
      "cell_type": "code",
      "source": [
        "image[:,:,0]"
      ],
      "metadata": {
        "colab": {
          "base_uri": "https://localhost:8080/"
        },
        "id": "OwdmvlJlEduj",
        "outputId": "ba1a99dd-cb05-4a08-b555-7d1c86f6593a"
      },
      "execution_count": null,
      "outputs": [
        {
          "output_type": "execute_result",
          "data": {
            "text/plain": [
              "array([[[0.54901963, 0.09803922, 0.21960786],\n",
              "        [0.5411765 , 0.08627451, 0.22352943],\n",
              "        [0.5294118 , 0.08627451, 0.16470589],\n",
              "        ...,\n",
              "        [0.9294118 , 0.3921569 , 0.74509805],\n",
              "        [0.90196085, 0.32941177, 0.86666673],\n",
              "        [0.9333334 , 0.3921569 , 0.6862745 ]]], dtype=float32)"
            ]
          },
          "metadata": {},
          "execution_count": 10
        }
      ]
    },
    {
      "cell_type": "code",
      "source": [
        "# reshape into shape [batch_size(사진 개수를 쓴다고 생각하면 됨), height, width, num_channels]\n",
        "image = tf.reshape(image, [1, image.shape[0], image.shape[1], image.shape[2]]) \n",
        "#reshape해야 함.- 3차원의 array를 4차원으로 바꾸어주기(이 모델이 그것을 원함)"
      ],
      "metadata": {
        "id": "xbMRizGdESI4"
      },
      "execution_count": null,
      "outputs": []
    },
    {
      "cell_type": "code",
      "source": [
        "# Use `convert_image_dtype` to convert to floats in the [0,1] range. \n",
        "#모델 자체는 0~1 사이로 (어두우면 0, 밝은 색이면 1로 이렇게)\n",
        "image = tf.image.convert_image_dtype(image, tf.float32)"
      ],
      "metadata": {
        "id": "CcW1qGO0E9AS"
      },
      "execution_count": null,
      "outputs": []
    },
    {
      "cell_type": "code",
      "source": [
        "image[0,:,:,0] #숫자가 0과 1 사이로 정리가 됨."
      ],
      "metadata": {
        "colab": {
          "base_uri": "https://localhost:8080/"
        },
        "id": "X8adjhf5E-NF",
        "outputId": "b90adcd2-de20-4d2b-936a-fa6a26d91a7a"
      },
      "execution_count": null,
      "outputs": [
        {
          "output_type": "execute_result",
          "data": {
            "text/plain": [
              "<tf.Tensor: shape=(480, 640), dtype=float32, numpy=\n",
              "array([[0.54901963, 0.5647059 , 0.57254905, ..., 0.36862746, 0.41960788,\n",
              "        0.40000004],\n",
              "       [0.5411765 , 0.5568628 , 0.54509807, ..., 0.4039216 , 0.45098042,\n",
              "        0.37647063],\n",
              "       [0.5294118 , 0.5882353 , 0.5568628 , ..., 0.4039216 , 0.42352945,\n",
              "        0.3647059 ],\n",
              "       ...,\n",
              "       [0.9294118 , 0.882353  , 0.92549026, ..., 0.67058825, 0.70980394,\n",
              "        0.5764706 ],\n",
              "       [0.90196085, 0.8862746 , 0.9333334 , ..., 0.44705886, 0.4039216 ,\n",
              "        0.34901962],\n",
              "       [0.9333334 , 0.96470594, 0.9333334 , ..., 0.2901961 , 0.2901961 ,\n",
              "        0.28627452]], dtype=float32)>"
            ]
          },
          "metadata": {},
          "execution_count": 12
        }
      ]
    },
    {
      "cell_type": "code",
      "source": [
        "logits = model(image) #그들이 사용한 label이 1000개가 되는 것\n",
        "logits "
      ],
      "metadata": {
        "id": "CRUy_pik9m3o",
        "colab": {
          "base_uri": "https://localhost:8080/"
        },
        "outputId": "35265478-2a1b-4e72-ce64-0868ae34225f"
      },
      "execution_count": null,
      "outputs": [
        {
          "output_type": "execute_result",
          "data": {
            "text/plain": [
              "<tf.Tensor: shape=(1, 1001), dtype=float32, numpy=\n",
              "array([[ 0.13278216, -0.98323435,  0.4061772 , ..., -0.12934873,\n",
              "         0.38595918,  0.4459334 ]], dtype=float32)>"
            ]
          },
          "metadata": {},
          "execution_count": 13
        }
      ]
    },
    {
      "cell_type": "code",
      "source": [
        "np.argmax(logits) #천개의 logits 중에서 뭐가 가장 높은 값이냐?를 알려주는 함수\n",
        "#282번째꺼가 가장 확률이 높더라~"
      ],
      "metadata": {
        "colab": {
          "base_uri": "https://localhost:8080/"
        },
        "id": "YNIAyJKpFHEE",
        "outputId": "4ab876f6-6f05-48bd-d75c-949a682b424f"
      },
      "execution_count": null,
      "outputs": [
        {
          "output_type": "execute_result",
          "data": {
            "text/plain": [
              "282"
            ]
          },
          "metadata": {},
          "execution_count": 14
        }
      ]
    },
    {
      "cell_type": "markdown",
      "source": [
        "> https://storage.googleapis.com/download.tensorflow.org/data/ImageNetLabels.txt"
      ],
      "metadata": {
        "id": "p7zLDQqWaGii"
      }
    },
    {
      "cell_type": "markdown",
      "source": [
        "교수님이 이 위에 사이트 들어가서 카피해서 엑셀에 넣어서282번째 것이 tabby라는 것을 알아차림.\n",
        "\n",
        "\n",
        "tabby는 고양이_제대로 고양이를 파악해 냄."
      ],
      "metadata": {
        "id": "_mnxHHEEFlfZ"
      }
    }
  ]
}