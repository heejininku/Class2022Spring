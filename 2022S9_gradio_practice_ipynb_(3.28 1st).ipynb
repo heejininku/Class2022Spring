{
  "nbformat": 4,
  "nbformat_minor": 0,
  "metadata": {
    "colab": {
      "provenance": [],
      "include_colab_link": true
    },
    "kernelspec": {
      "name": "python3",
      "display_name": "Python 3"
    },
    "language_info": {
      "name": "python"
    }
  },
  "cells": [
    {
      "cell_type": "markdown",
      "metadata": {
        "id": "view-in-github",
        "colab_type": "text"
      },
      "source": [
        "<a href=\"https://colab.research.google.com/github/heejininku/Class2022Spring/blob/main/2022S9_gradio_practice_ipynb_(3.28%201st).ipynb\" target=\"_parent\"><img src=\"https://colab.research.google.com/assets/colab-badge.svg\" alt=\"Open In Colab\"/></a>"
      ]
    },
    {
      "cell_type": "markdown",
      "source": [
        "아주 간단하게 그라디오 사용법을 설명할 것.\n",
        "gradio는 어떤 입출력에 대한 것을 웹으로 데모를 만들어 주는 것.\n",
        "입출력이 있는 게 중요한데, 입출력이 있다는 말은 함수가 있다는 말이다.\n",
        "함수를 먼저 정의해야 함. 기존에 존재하는 함수를 가져와서 그라디오에 심어주고 입출력을 specify 해주면 끝이다."
      ],
      "metadata": {
        "id": "UAxEAnRJBDTc"
      }
    },
    {
      "cell_type": "markdown",
      "source": [
        "함수를 만드는 과정이다. (아래는 )\n",
        "def 적고, 함수 이름 적고, () : 하기\n",
        "() 안에 함수가 받는 입력 변수명을 마음대로 적어주면 된다. -> 입력변수가 하나도 없으면 안적어도 되지만 교수님은 두개를 적음 (a,b) \n",
        "아래는 더하기 함수를 만든 것."
      ],
      "metadata": {
        "id": "LwpzsuOyBkTY"
      }
    },
    {
      "cell_type": "code",
      "source": [
        "def sum(a, b): #a,b가 입력변수\n",
        "  c = a + b  #c가 출력변수\n",
        "  c=int(c) #float를 int 형태로 바꾸기 위해서 함수를 재정의한 상태\n",
        "  return str(c) #출력 값에 number 가 없어서 이렇게 바꾸어 준 상태임\n"
      ],
      "metadata": {
        "id": "-X8K7YXxCVnA"
      },
      "execution_count": null,
      "outputs": []
    },
    {
      "cell_type": "code",
      "source": [
        "sum(2,3)"
      ],
      "metadata": {
        "colab": {
          "base_uri": "https://localhost:8080/",
          "height": 36
        },
        "id": "kRv8XqdWCmjP",
        "outputId": "e53eb652-083d-4cbe-e38f-75e66cc5d3e4"
      },
      "execution_count": null,
      "outputs": [
        {
          "output_type": "execute_result",
          "data": {
            "text/plain": [
              "'5'"
            ],
            "application/vnd.google.colaboratory.intrinsic+json": {
              "type": "string"
            }
          },
          "metadata": {},
          "execution_count": 2
        }
      ]
    },
    {
      "cell_type": "markdown",
      "source": [
        "위에는 텍스트로 또는 터미널 창에서 파이썬으로 그냥 쓰는 건데\n",
        "셀로 실행도 나쁘지는 않지만 \n",
        "웹으로 예쁘게 만들어서 스는 사람이 편하게 만드는 것도 방법임.\n",
        "그래서 그라디오를 사용하는 것임. "
      ],
      "metadata": {
        "id": "muAVDS8_Cxii"
      }
    },
    {
      "cell_type": "code",
      "source": [
        "!pip install gradio #우선 install 먼저 하는 것"
      ],
      "metadata": {
        "id": "sfMdWugISD5M"
      },
      "execution_count": null,
      "outputs": []
    },
    {
      "cell_type": "code",
      "source": [
        "import gradio as gr #이제 gr로 써도 된다."
      ],
      "metadata": {
        "id": "buyjOWYWS41q"
      },
      "execution_count": null,
      "outputs": []
    },
    {
      "cell_type": "markdown",
      "source": [
        "gr.Interface(함수명, 입력. 출력 적으면 된다.)\n",
        "입출력은 몇개 있는지가 중요함-> 위에서 2개(a,b), 1개(c) 이렇게 있음. \n",
        "\n",
        "1. 입출력의 개수가 맞아야함. (지금 입력이 두개니까 리스트의 형태로 적었음.)\n",
        "\n",
        "2. 입출력의 타입이 맞아야함. (타입의 종류는 그라디오를 가보면 알 수 있음.)\n",
        "\n",
        "inputs = [\"number\", \"number\"], outputs = [\"text\"] 이렇게 적어 줌. \n",
        "\n",
        "위에서 2, 3 이라는 숫자를 입력으로 넣었고 5라는 출력이 나온 것. 그런데 출력에는 number가 없어서 그냥 text 라고 쓴 건데\n",
        "그냥 찝찝하면 위에 올라가서 str(c)이렇게 바꿔놔도 큰 문제는 없음.\n",
        "\n",
        "교수님은 iface라는 변수로 둔 것 (이름은 어떤 것도 상관 없음)\n",
        "단 아래에 변수명. launch () 이런 식으로 써야 함. 그래야 실제 웹 데모가 만들어짐."
      ],
      "metadata": {
        "id": "qu6Tbeo1Doz6"
      }
    },
    {
      "cell_type": "code",
      "source": [
        "iface = gr.Interface(sum, inputs = [\"number\", \"number\"], outputs = [\"text\"])\n",
        "iface.launch()"
      ],
      "metadata": {
        "id": "vNlrBEbSS7ge",
        "colab": {
          "base_uri": "https://localhost:8080/",
          "height": 651
        },
        "outputId": "2bdfe986-7b05-4277-fa6b-01b635ad01c7"
      },
      "execution_count": null,
      "outputs": [
        {
          "output_type": "stream",
          "name": "stdout",
          "text": [
            "Colab notebook detected. To show errors in colab notebook, set `debug=True` in `launch()`\n",
            "Running on public URL: https://11454.gradio.app\n",
            "\n",
            "This share link expires in 72 hours. For free permanent hosting, check out Spaces (https://huggingface.co/spaces)\n"
          ]
        },
        {
          "output_type": "display_data",
          "data": {
            "text/plain": [
              "<IPython.lib.display.IFrame at 0x7f90b8cd6850>"
            ],
            "text/html": [
              "\n",
              "        <iframe\n",
              "            width=\"900\"\n",
              "            height=\"500\"\n",
              "            src=\"https://11454.gradio.app\"\n",
              "            frameborder=\"0\"\n",
              "            allowfullscreen\n",
              "        ></iframe>\n",
              "        "
            ]
          },
          "metadata": {}
        },
        {
          "output_type": "execute_result",
          "data": {
            "text/plain": [
              "(<fastapi.applications.FastAPI at 0x7f90c51a1f10>,\n",
              " 'http://127.0.0.1:7863/',\n",
              " 'https://11454.gradio.app')"
            ]
          },
          "metadata": {},
          "execution_count": 8
        }
      ]
    },
    {
      "cell_type": "markdown",
      "source": [
        "위의 상황에서 colab에서 작동하는 애를 public url로 실행하고 싶다 하면\n",
        "Running on public URL 뒤에 있는 주소를 실행하면 된다. (지금 현재에 만들어진 즉흥적인 주소이다.) 독립된 창이 떠서 웹 브라우저에서 실행이 된다.\n",
        "\n",
        "아래의 설명읽어보기-> 위에 즉흥적인 주소는 72시간 뒤에 사라져. 무료로 계속되는 사이트 형태 만들고 싶으면 이 옆에 꺼 해봐 라는 의미 (이건 조금 더 배우면 되는 내용)\n",
        "This share link expires in 72 hours. For free permanent hosting, check out Spaces (https://huggingface.co/spaces)"
      ],
      "metadata": {
        "id": "pOKYQ1u3GFqn"
      }
    },
    {
      "cell_type": "markdown",
      "source": [
        "그런데 여기서 수정을 해야할 것이 있음.\n",
        "\n",
        "웹을 실행해보면 출력 값으로 6.0 이런식으로 나옴. (6이 아니라)\n",
        "\n",
        "이유는? 숫자 중에 어떤 것은 정수 int(6과 같은 것) 어떤 것은 실수 float. (6.0과 같은 것) 임. 여기서 지금 string으로 잘 바꾸기는 했는데 float로 되었나봄. 그래서 float에서 int 로 바꾸기 위해서 위에 올라가서 c=int() 라고 표현을 함.\n",
        "그리고 iface 로 시작하는 셀을 다시 실행하게 되면 즉흥주소가 변경되게 되고, 그라디오의 새 창이 뜸 (여기서는 값이 6 이런 식으로 제대로 등장하게 됨)"
      ],
      "metadata": {
        "id": "G0wDTz-cHiyN"
      }
    },
    {
      "cell_type": "markdown",
      "source": [
        "미적으로 더 예쁘게 하는 방법\n",
        "(아까 웹에 들어가보면, a.b. output 이렇게만 나와있음.)\n",
        "이름을 예쁘게 바꿔주고 싶을 때 아래처럼 바꾸어보자!"
      ],
      "metadata": {
        "id": "adTB8rxNJVmb"
      }
    },
    {
      "cell_type": "code",
      "source": [
        "iface = gr.Interface(sum, [gr.inputs.Number(label='input1'), gr.inputs.Number(label='input2')],gr.outputs.Textbox(label='answer') )\n",
        "iface.launch()"
      ],
      "metadata": {
        "id": "9C_eEMRCWExA",
        "colab": {
          "base_uri": "https://localhost:8080/",
          "height": 651
        },
        "outputId": "fe487bd9-2294-4512-9e91-54a1b329c00e"
      },
      "execution_count": null,
      "outputs": [
        {
          "output_type": "stream",
          "name": "stdout",
          "text": [
            "Colab notebook detected. To show errors in colab notebook, set `debug=True` in `launch()`\n",
            "Running on public URL: https://14010.gradio.app\n",
            "\n",
            "This share link expires in 72 hours. For free permanent hosting, check out Spaces (https://huggingface.co/spaces)\n"
          ]
        },
        {
          "output_type": "display_data",
          "data": {
            "text/plain": [
              "<IPython.lib.display.IFrame at 0x7f90ba527a50>"
            ],
            "text/html": [
              "\n",
              "        <iframe\n",
              "            width=\"900\"\n",
              "            height=\"500\"\n",
              "            src=\"https://14010.gradio.app\"\n",
              "            frameborder=\"0\"\n",
              "            allowfullscreen\n",
              "        ></iframe>\n",
              "        "
            ]
          },
          "metadata": {}
        },
        {
          "output_type": "execute_result",
          "data": {
            "text/plain": [
              "(<fastapi.applications.FastAPI at 0x7f90c51a1f10>,\n",
              " 'http://127.0.0.1:7862/',\n",
              " 'https://14010.gradio.app')"
            ]
          },
          "metadata": {},
          "execution_count": 7
        }
      ]
    },
    {
      "cell_type": "markdown",
      "source": [
        "위에서 gr.inputs.Number(label='input1'), gr.inputs.Number(label='input2')이 모두 입력인 상황/ 리스트로 두개 있는 상황\n",
        "\n",
        "gr.inputs.Number(label='input1') 이게 첫번째임 (\"number\" 이게 이렇게 바뀐 것)\n",
        "gr.inputs.Number(label='input2') 이게 두번째임 (\"number\" 이게 이렇게 바뀐 것)\n",
        "\n",
        "그라디오 가서 input components에서 number 들어가보면 설명이 나와있음.\n",
        "(그러한 설명이 가능하게 하려면 위처럼 바꾸어야한다.\n",
        "\n",
        "그라디오 가서 output components에서 들어가보면 마찬가지로 설명이 나와있음.\n",
        "지금도 출력을 바꿔준 상태임.\n",
        "\n",
        "\n"
      ],
      "metadata": {
        "id": "bdXlwEGkKIqg"
      }
    }
  ]
}