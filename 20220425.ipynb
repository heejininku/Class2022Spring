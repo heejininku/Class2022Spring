{
  "nbformat": 4,
  "nbformat_minor": 0,
  "metadata": {
    "colab": {
      "name": "20220425.ipynb",
      "provenance": [],
      "authorship_tag": "ABX9TyPNT9IFvmDftAoPEI4lECgL",
      "include_colab_link": true
    },
    "kernelspec": {
      "name": "python3",
      "display_name": "Python 3"
    },
    "language_info": {
      "name": "python"
    }
  },
  "cells": [
    {
      "cell_type": "markdown",
      "metadata": {
        "id": "view-in-github",
        "colab_type": "text"
      },
      "source": [
        "<a href=\"https://colab.research.google.com/github/heejininku/class2022spring/blob/main/20220425.ipynb\" target=\"_parent\"><img src=\"https://colab.research.google.com/assets/colab-badge.svg\" alt=\"Open In Colab\"/></a>"
      ]
    },
    {
      "cell_type": "markdown",
      "source": [
        "**Auto correlation- 자기 상관**\n",
        "\n",
        "(sinal에 대해서 auto correlation의 의미)\n",
        "\n",
        "정의: 시간 또는 공간적으로 연속된 일련의 관측치들 간에 존재하는 상관관계\n",
        "\n",
        "이용용도: \n",
        "1. 자기상관 분석은 소음에 의해 가려진 주기적인 신호 의 존재와 같은 반복 패턴을 찾는 것\n",
        "2. 고조파 주파수 에 의해 암시된 신호에서 누락된 기본 주파수 를 식별하기 위한 수학적 도구\n",
        "3. 특히 signal processing에서는 domain signals와 같은 일련의 값을 보여줌으로써 신호의 스펙트럼 정보를 제공함.\n",
        "\n",
        "*시계열자료(time series data)에서는 현재의 상태가 과거와 미래의 상태에 밀접한 연관을 지니는 경우가 많다. 이럴 때 자기상관(autocorrelation) 과 연관이 있다고 이야기를 한다.\n"
      ],
      "metadata": {
        "id": "Q6ODSHpWqzex"
      }
    },
    {
      "cell_type": "markdown",
      "source": [
        "**Root mean square (RMS)-제곱평균제곱근(실효값)**\n",
        "\n",
        "정의: 각 변량의 제곱을 평균한 양의 제곱근(루트를 씌우는 것) 즉, 제곱평균제곱근이다.\n",
        "\n",
        "특징: \n",
        "1. 평균값과 유사성이 있으며 대표값의 역할을 행한다.\n",
        "2. 변수들의 분포가 음과 양의 값을 골고루 가질 때 그 크기의 정도를 알아보고자 할 때 유용한 방법이다."
      ],
      "metadata": {
        "id": "3trjGo58q9Fg"
      }
    }
  ]
}