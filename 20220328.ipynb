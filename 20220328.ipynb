{
  "nbformat": 4,
  "nbformat_minor": 0,
  "metadata": {
    "colab": {
      "name": "20220328.ipynb",
      "provenance": [],
      "include_colab_link": true
    },
    "kernelspec": {
      "name": "python3",
      "display_name": "Python 3"
    },
    "language_info": {
      "name": "python"
    }
  },
  "cells": [
    {
      "cell_type": "markdown",
      "metadata": {
        "id": "view-in-github",
        "colab_type": "text"
      },
      "source": [
        "<a href=\"https://colab.research.google.com/github/heejininku/class2022spring/blob/main/20220328.ipynb\" target=\"_parent\"><img src=\"https://colab.research.google.com/assets/colab-badge.svg\" alt=\"Open In Colab\"/></a>"
      ]
    },
    {
      "cell_type": "code",
      "source": [
        "!pip install gradio\n",
        "import gradio as gr\n",
        "import requests\n",
        "import pandas as pd"
      ],
      "metadata": {
        "id": "8eZHGJhmqd9a"
      },
      "execution_count": null,
      "outputs": []
    },
    {
      "cell_type": "code",
      "source": [
        "URL = ('http://apis.data.go.kr/B552061/frequentzoneChild/getRestFrequentzoneChild?'\n",
        "'ServiceKey=5w%2BfqNl4vGBXtu4GuJGXHVWsHFB4kHGUkFYzA5mH3qBIgVjA1IQk3QI1N3tz%2B%2BMAHiouaGQwlyM%2F9HB98uhZ7A%3D%3D'\n",
        "'&searchYearCd=2017'\n",
        "'&siDo=11'\n",
        "'&guGun=680'\n",
        "'&type=json'\n",
        "'&numOfRows=10'\n",
        "'&pageNo=1')\n",
        "response = requests.get(URL)"
      ],
      "metadata": {
        "id": "lHHEwqpyJF7r"
      },
      "execution_count": 16,
      "outputs": []
    },
    {
      "cell_type": "code",
      "source": [
        "response"
      ],
      "metadata": {
        "colab": {
          "base_uri": "https://localhost:8080/"
        },
        "id": "K6ET18L_hWd4",
        "outputId": "df378f1a-681b-484c-a9e3-0bfbfad048fc"
      },
      "execution_count": 25,
      "outputs": [
        {
          "output_type": "execute_result",
          "data": {
            "text/plain": [
              "<Response [200]>"
            ]
          },
          "metadata": {},
          "execution_count": 25
        }
      ]
    },
    {
      "cell_type": "markdown",
      "source": [
        "#### http://jsonviewer.stack.hu/ (copy json here to view json)"
      ],
      "metadata": {
        "id": "faIENRyFfnY1"
      }
    },
    {
      "cell_type": "code",
      "source": [
        "r = response.json()\n",
        "r"
      ],
      "metadata": {
        "id": "JcLKwg0foR9p"
      },
      "execution_count": null,
      "outputs": []
    },
    {
      "cell_type": "code",
      "source": [
        "item = r['items']['item']\n",
        "item"
      ],
      "metadata": {
        "id": "I7-AGH0mkyQP"
      },
      "execution_count": null,
      "outputs": []
    },
    {
      "cell_type": "code",
      "source": [
        "import pandas as pd\n",
        "item = r['items']['item']\n",
        "\n",
        "bjd_cd = [it['bjd_cd'] for it in item]\n",
        "sido_sgg_nm = [it['sido_sgg_nm'] for it in item]\n",
        "spot_nm = [it['spot_nm'] for it in item]\n",
        "occrrnc_cnt = [it['occrrnc_cnt'] for it in item]\n",
        "caslt_cnt= [it['caslt_cnt'] for it in item]\n",
        "\n",
        "bjd_cd = pd.Series(bjd_cd)\n",
        "sido_sgg_nm = pd.Series(sido_sgg_nm)   \n",
        "spot_nm = pd.Series(spot_nm)\n",
        "occrrnc_cnt = pd.Series(occrrnc_cnt)\n",
        "caslt_cnt = pd.Series(caslt_cnt)\n",
        "\n",
        "df = pd.DataFrame({ 'bjd_cd': bjd_cd, 'sido_sgg_nm': sido_sgg_nm, 'spot_nm': spot_nm, 'occrrnc_cnt': occrrnc_cnt, 'caslt_cnt': caslt_cnt})"
      ],
      "metadata": {
        "id": "W8lA0-IzE55W"
      },
      "execution_count": 32,
      "outputs": []
    },
    {
      "cell_type": "code",
      "source": [
        "def test(siDo):\n",
        "  URL = ('http://apis.data.go.kr/B552061/frequentzoneChild/getRestFrequentzoneChild?'\n",
        "       'ServiceKey=5w%2BfqNl4vGBXtu4GuJGXHVWsHFB4kHGUkFYzA5mH3qBIgVjA1IQk3QI1N3tz%2B%2BMAHiouaGQwlyM%2F9HB98uhZ7A%3D%3D'\n",
        "       '&searchYearCd=2017'\n",
        "       '&siDo='+siDo+\n",
        "       '&guGun= 680'\n",
        "       '&type=json'\n",
        "       '&numOfRows=10'\n",
        "       '&pageNo=1')\n",
        "\n",
        "  response = requests.get(URL)\n",
        "  r = response.json()\n",
        "  item = r['items']['item']\n",
        "\n",
        "  bjd_cd = [it['bjd_cd'] for it in item]\n",
        "  sido_sgg_nm = [it['sido_sgg_nm'] for it in item]\n",
        "  spot_nm = [it['spot_nm'] for it in item]\n",
        "  occrrnc_cnt = [it['occrrnc_cnt'] for it in item]\n",
        "  caslt_cnt= [it['caslt_cnt'] for it in item]\n",
        "\n",
        "  bjd_cd = pd.Series(bjd_cd)\n",
        "  sido_sgg_nm = pd.Series(sido_sgg_nm)   \n",
        "  spot_nm = pd.Series(spot_nm)\n",
        "  occrrnc_cnt = pd.Series(occrrnc_cnt)\n",
        "  caslt_cnt = pd.Series(caslt_cnt)\n",
        "\n",
        "  df = pd.DataFrame({ 'bjd_cd': bjd_cd,'sido_sgg_nm': sido_sgg_nm,'spot_nm': spot_nm,'occrrnc_cnt': occrrnc_cnt,'caslt_cnt': caslt_cnt})\n",
        "  return df"
      ],
      "metadata": {
        "id": "xa2Gb_qsm_G5"
      },
      "execution_count": 67,
      "outputs": []
    },
    {
      "cell_type": "code",
      "source": [
        "iface = gr.Interface(test, gr.inputs.Dropdown(['서울', '부산', '대구', '대전', '광주', '울산', '인천']), outputs=['dataframe'])\n",
        "iface.launch(debug=True)"
      ],
      "metadata": {
        "id": "kxORJVPOnDSP",
        "outputId": "68e2630e-d320-4888-ac14-998abd97406e",
        "colab": {
          "base_uri": "https://localhost:8080/",
          "height": 783
        }
      },
      "execution_count": 70,
      "outputs": [
        {
          "output_type": "stream",
          "name": "stdout",
          "text": [
            "Colab notebook detected. This cell will run indefinitely so that you can see errors and logs. To turn off, set debug=False in launch().\n",
            "Running on public URL: https://30117.gradio.app\n",
            "\n",
            "This share link expires in 72 hours. For free permanent hosting, check out Spaces (https://huggingface.co/spaces)\n"
          ]
        },
        {
          "output_type": "display_data",
          "data": {
            "text/plain": [
              "<IPython.lib.display.IFrame at 0x7f6849f5cf10>"
            ],
            "text/html": [
              "\n",
              "        <iframe\n",
              "            width=\"900\"\n",
              "            height=\"500\"\n",
              "            src=\"https://30117.gradio.app\"\n",
              "            frameborder=\"0\"\n",
              "            allowfullscreen\n",
              "        ></iframe>\n",
              "        "
            ]
          },
          "metadata": {}
        },
        {
          "output_type": "stream",
          "name": "stderr",
          "text": [
            "/usr/local/lib/python3.7/dist-packages/ipykernel_launcher.py:21: DeprecationWarning: The default dtype for empty Series will be 'object' instead of 'float64' in a future version. Specify a dtype explicitly to silence this warning.\n",
            "/usr/local/lib/python3.7/dist-packages/ipykernel_launcher.py:22: DeprecationWarning: The default dtype for empty Series will be 'object' instead of 'float64' in a future version. Specify a dtype explicitly to silence this warning.\n",
            "/usr/local/lib/python3.7/dist-packages/ipykernel_launcher.py:23: DeprecationWarning: The default dtype for empty Series will be 'object' instead of 'float64' in a future version. Specify a dtype explicitly to silence this warning.\n",
            "/usr/local/lib/python3.7/dist-packages/ipykernel_launcher.py:24: DeprecationWarning: The default dtype for empty Series will be 'object' instead of 'float64' in a future version. Specify a dtype explicitly to silence this warning.\n",
            "/usr/local/lib/python3.7/dist-packages/ipykernel_launcher.py:25: DeprecationWarning: The default dtype for empty Series will be 'object' instead of 'float64' in a future version. Specify a dtype explicitly to silence this warning.\n"
          ]
        },
        {
          "output_type": "stream",
          "name": "stdout",
          "text": [
            "Keyboard interruption in main thread... closing server.\n"
          ]
        },
        {
          "output_type": "execute_result",
          "data": {
            "text/plain": [
              "(<fastapi.applications.FastAPI at 0x7f684b455e90>,\n",
              " 'http://127.0.0.1:7860/',\n",
              " 'https://30117.gradio.app')"
            ]
          },
          "metadata": {},
          "execution_count": 70
        }
      ]
    }
  ]
}