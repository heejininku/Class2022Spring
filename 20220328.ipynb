{
  "nbformat": 4,
  "nbformat_minor": 0,
  "metadata": {
    "colab": {
      "name": "20220328.ipynb",
      "provenance": [],
      "include_colab_link": true
    },
    "kernelspec": {
      "name": "python3",
      "display_name": "Python 3"
    },
    "language_info": {
      "name": "python"
    }
  },
  "cells": [
    {
      "cell_type": "markdown",
      "metadata": {
        "id": "view-in-github",
        "colab_type": "text"
      },
      "source": [
        "<a href=\"https://colab.research.google.com/github/heejininku/class2022spring/blob/main/20220328.ipynb\" target=\"_parent\"><img src=\"https://colab.research.google.com/assets/colab-badge.svg\" alt=\"Open In Colab\"/></a>"
      ]
    },
    {
      "cell_type": "code",
      "source": [
        "!pip install gradio\n",
        "import gradio as gr\n",
        "import requests\n",
        "import pandas as pd"
      ],
      "metadata": {
        "id": "8eZHGJhmqd9a"
      },
      "execution_count": null,
      "outputs": []
    },
    {
      "cell_type": "code",
      "source": [
        "URL = ('http://apis.data.go.kr/B552061/frequentzoneChild/getRestFrequentzoneChild?'\n",
        "'ServiceKey=5w%2BfqNl4vGBXtu4GuJGXHVWsHFB4kHGUkFYzA5mH3qBIgVjA1IQk3QI1N3tz%2B%2BMAHiouaGQwlyM%2F9HB98uhZ7A%3D%3D'\n",
        "'&searchYearCd=2017'\n",
        "'&siDo=11'\n",
        "'&guGun=680'\n",
        "'&type=json'\n",
        "'&numOfRows=10'\n",
        "'&pageNo=1')\n",
        "response = requests.get(URL)"
      ],
      "metadata": {
        "id": "lHHEwqpyJF7r"
      },
      "execution_count": 16,
      "outputs": []
    },
    {
      "cell_type": "code",
      "source": [
        "response"
      ],
      "metadata": {
        "colab": {
          "base_uri": "https://localhost:8080/"
        },
        "id": "K6ET18L_hWd4",
        "outputId": "df378f1a-681b-484c-a9e3-0bfbfad048fc"
      },
      "execution_count": 25,
      "outputs": [
        {
          "output_type": "execute_result",
          "data": {
            "text/plain": [
              "<Response [200]>"
            ]
          },
          "metadata": {},
          "execution_count": 25
        }
      ]
    },
    {
      "cell_type": "markdown",
      "source": [
        "#### http://jsonviewer.stack.hu/ (copy json here to view json)"
      ],
      "metadata": {
        "id": "faIENRyFfnY1"
      }
    },
    {
      "cell_type": "code",
      "source": [
        "r = response.json()\n",
        "r"
      ],
      "metadata": {
        "id": "JcLKwg0foR9p"
      },
      "execution_count": null,
      "outputs": []
    },
    {
      "cell_type": "code",
      "source": [
        "item = r['items']['item']\n",
        "item"
      ],
      "metadata": {
        "colab": {
          "base_uri": "https://localhost:8080/"
        },
        "id": "I7-AGH0mkyQP",
        "outputId": "3a726678-7cf0-44b7-ff5d-3a6e968c712f"
      },
      "execution_count": 29,
      "outputs": [
        {
          "output_type": "execute_result",
          "data": {
            "text/plain": [
              "[{'afos_fid': 6395246,\n",
              "  'afos_id': '2018028',\n",
              "  'bjd_cd': '1168011800',\n",
              "  'caslt_cnt': 3,\n",
              "  'dth_dnv_cnt': 0,\n",
              "  'geom_json': '{\"type\":\"Polygon\",\"coordinates\":[[[127.03968993,37.48670858],[127.03965541,37.48643046],[127.03955317,37.48616302],[127.03938715,37.48591655],[127.03916371,37.48570051],[127.03889146,37.48552321],[127.03858084,37.48539147],[127.03824381,37.48531034],[127.0378933,37.48528295],[127.0375428,37.48531034],[127.03720576,37.48539147],[127.03689515,37.48552321],[127.03662289,37.48570051],[127.03639946,37.48591655],[127.03623343,37.48616302],[127.0361312,37.48643046],[127.03609667,37.48670858],[127.0361312,37.4869867],[127.03623343,37.48725414],[127.03639946,37.48750061],[127.03662289,37.48771664],[127.03689515,37.48789393],[127.03720576,37.48802567],[127.0375428,37.48810679],[127.0378933,37.48813418],[127.03824381,37.48810679],[127.03858084,37.48802567],[127.03889146,37.48789393],[127.03916371,37.48771664],[127.03938715,37.48750061],[127.03955317,37.48725414],[127.03965541,37.4869867],[127.03968993,37.48670858]]]}',\n",
              "  'la_crd': '37.486708581137',\n",
              "  'lo_crd': '127.037893303934',\n",
              "  'occrrnc_cnt': 3,\n",
              "  'se_dnv_cnt': 1,\n",
              "  'sido_sgg_nm': '서울특별시 강남구1',\n",
              "  'sl_dnv_cnt': 2,\n",
              "  'spot_cd': '11680001',\n",
              "  'spot_nm': '서울특별시 강남구 도곡동(언주초교 부근)',\n",
              "  'wnd_dnv_cnt': 0},\n",
              " {'afos_fid': 6395311,\n",
              "  'afos_id': '2018028',\n",
              "  'bjd_cd': '1168010100',\n",
              "  'caslt_cnt': 4,\n",
              "  'dth_dnv_cnt': 0,\n",
              "  'geom_json': '{\"type\":\"Polygon\",\"coordinates\":[[[127.04777175,37.49646954],[127.04773723,37.49619145],[127.04763499,37.49592405],[127.04746897,37.49567761],[127.04724553,37.4954616],[127.04697328,37.49528433],[127.04666266,37.4951526],[127.04632563,37.49507148],[127.04597512,37.49504409],[127.04562462,37.49507148],[127.04528758,37.4951526],[127.04497697,37.49528433],[127.04470471,37.4954616],[127.04448128,37.49567761],[127.04431525,37.49592405],[127.04421301,37.49619145],[127.04417849,37.49646954],[127.04421301,37.49674763],[127.04431525,37.49701502],[127.04448128,37.49726146],[127.04470471,37.49747746],[127.04497697,37.49765473],[127.04528758,37.49778645],[127.04562462,37.49786757],[127.04597512,37.49789496],[127.04632563,37.49786757],[127.04666266,37.49778645],[127.04697328,37.49765473],[127.04724553,37.49747746],[127.04746897,37.49726146],[127.04763499,37.49701502],[127.04773723,37.49674763],[127.04777175,37.49646954]]]}',\n",
              "  'la_crd': '37.496469538439',\n",
              "  'lo_crd': '127.045975123554',\n",
              "  'occrrnc_cnt': 3,\n",
              "  'se_dnv_cnt': 0,\n",
              "  'sido_sgg_nm': '서울특별시 강남구2',\n",
              "  'sl_dnv_cnt': 4,\n",
              "  'spot_cd': '11680002',\n",
              "  'spot_nm': '서울특별시 강남구 역삼동(상지리츠빌1차 부근)',\n",
              "  'wnd_dnv_cnt': 0}]"
            ]
          },
          "metadata": {},
          "execution_count": 29
        }
      ]
    },
    {
      "cell_type": "code",
      "source": [
        "import pandas as pd\n",
        "item = r['items']['item']\n",
        "\n",
        "bjd_cd = [it['bjd_cd'] for it in item]\n",
        "sido_sgg_nm = [it['sido_sgg_nm'] for it in item]\n",
        "spot_nm = [it['spot_nm'] for it in item]\n",
        "occrrnc_cnt = [it['occrrnc_cnt'] for it in item]\n",
        "caslt_cnt= [it['caslt_cnt'] for it in item]\n",
        "\n",
        "bjd_cd = pd.Series(bjd_cd)\n",
        "sido_sgg_nm = pd.Series(sido_sgg_nm)   \n",
        "spot_nm = pd.Series(spot_nm)\n",
        "occrrnc_cnt = pd.Series(occrrnc_cnt)\n",
        "caslt_cnt = pd.Series(caslt_cnt)\n",
        "\n",
        "df = pd.DataFrame({ 'bjd_cd': bjd_cd, 'sido_sgg_nm': sido_sgg_nm, 'spot_nm': spot_nm, 'occrrnc_cnt': occrrnc_cnt, 'caslt_cnt': caslt_cnt})"
      ],
      "metadata": {
        "id": "W8lA0-IzE55W"
      },
      "execution_count": 32,
      "outputs": []
    },
    {
      "cell_type": "code",
      "source": [
        "def test(siDo):\n",
        "  URL = ('http://apis.data.go.kr/B552061/frequentzoneChild/getRestFrequentzoneChild?'\n",
        "       'ServiceKey=5w%2BfqNl4vGBXtu4GuJGXHVWsHFB4kHGUkFYzA5mH3qBIgVjA1IQk3QI1N3tz%2B%2BMAHiouaGQwlyM%2F9HB98uhZ7A%3D%3D'\n",
        "       '&searchYearCd=2017'\n",
        "       '&siDo='+siDo+\n",
        "       '&guGun= 680'\n",
        "       '&type=json'\n",
        "       '&numOfRows=10'\n",
        "       '&pageNo=1')\n",
        "\n",
        "  response = requests.get(URL)\n",
        "  r = response.json()\n",
        "  item = r['items']['item']\n",
        "\n",
        "  bjd_cd = [it['bjd_cd'] for it in item]\n",
        "  sido_sgg_nm = [it['sido_sgg_nm'] for it in item]\n",
        "  spot_nm = [it['spot_nm'] for it in item]\n",
        "  occrrnc_cnt = [it['occrrnc_cnt'] for it in item]\n",
        "  caslt_cnt= [it['caslt_cnt'] for it in item]\n",
        "\n",
        "  bjd_cd = pd.Series(bjd_cd)\n",
        "  sido_sgg_nm = pd.Series(sido_sgg_nm)   \n",
        "  spot_nm = pd.Series(spot_nm)\n",
        "  occrrnc_cnt = pd.Series(occrrnc_cnt)\n",
        "  caslt_cnt = pd.Series(caslt_cnt)\n",
        "\n",
        "  df = pd.DataFrame({ 'bjd_cd': bjd_cd,'sido_sgg_nm': sido_sgg_nm,'spot_nm': spot_nm,'occrrnc_cnt': occrrnc_cnt,'caslt_cnt': caslt_cnt})\n",
        "  return df"
      ],
      "metadata": {
        "id": "xa2Gb_qsm_G5"
      },
      "execution_count": 67,
      "outputs": []
    },
    {
      "cell_type": "code",
      "source": [
        "df"
      ],
      "metadata": {
        "colab": {
          "base_uri": "https://localhost:8080/",
          "height": 112
        },
        "id": "ay7S-sYireot",
        "outputId": "fb280070-2b4a-4c77-ea65-9e79b56b0d83"
      },
      "execution_count": 68,
      "outputs": [
        {
          "output_type": "execute_result",
          "data": {
            "text/plain": [
              "       bjd_cd sido_sgg_nm                    spot_nm  occrrnc_cnt  caslt_cnt\n",
              "0  1168011800  서울특별시 강남구1     서울특별시 강남구 도곡동(언주초교 부근)            3          3\n",
              "1  1168010100  서울특별시 강남구2  서울특별시 강남구 역삼동(상지리츠빌1차 부근)            3          4"
            ],
            "text/html": [
              "\n",
              "  <div id=\"df-5e2fec03-ef79-4826-b4fe-e0b003242cbb\">\n",
              "    <div class=\"colab-df-container\">\n",
              "      <div>\n",
              "<style scoped>\n",
              "    .dataframe tbody tr th:only-of-type {\n",
              "        vertical-align: middle;\n",
              "    }\n",
              "\n",
              "    .dataframe tbody tr th {\n",
              "        vertical-align: top;\n",
              "    }\n",
              "\n",
              "    .dataframe thead th {\n",
              "        text-align: right;\n",
              "    }\n",
              "</style>\n",
              "<table border=\"1\" class=\"dataframe\">\n",
              "  <thead>\n",
              "    <tr style=\"text-align: right;\">\n",
              "      <th></th>\n",
              "      <th>bjd_cd</th>\n",
              "      <th>sido_sgg_nm</th>\n",
              "      <th>spot_nm</th>\n",
              "      <th>occrrnc_cnt</th>\n",
              "      <th>caslt_cnt</th>\n",
              "    </tr>\n",
              "  </thead>\n",
              "  <tbody>\n",
              "    <tr>\n",
              "      <th>0</th>\n",
              "      <td>1168011800</td>\n",
              "      <td>서울특별시 강남구1</td>\n",
              "      <td>서울특별시 강남구 도곡동(언주초교 부근)</td>\n",
              "      <td>3</td>\n",
              "      <td>3</td>\n",
              "    </tr>\n",
              "    <tr>\n",
              "      <th>1</th>\n",
              "      <td>1168010100</td>\n",
              "      <td>서울특별시 강남구2</td>\n",
              "      <td>서울특별시 강남구 역삼동(상지리츠빌1차 부근)</td>\n",
              "      <td>3</td>\n",
              "      <td>4</td>\n",
              "    </tr>\n",
              "  </tbody>\n",
              "</table>\n",
              "</div>\n",
              "      <button class=\"colab-df-convert\" onclick=\"convertToInteractive('df-5e2fec03-ef79-4826-b4fe-e0b003242cbb')\"\n",
              "              title=\"Convert this dataframe to an interactive table.\"\n",
              "              style=\"display:none;\">\n",
              "        \n",
              "  <svg xmlns=\"http://www.w3.org/2000/svg\" height=\"24px\"viewBox=\"0 0 24 24\"\n",
              "       width=\"24px\">\n",
              "    <path d=\"M0 0h24v24H0V0z\" fill=\"none\"/>\n",
              "    <path d=\"M18.56 5.44l.94 2.06.94-2.06 2.06-.94-2.06-.94-.94-2.06-.94 2.06-2.06.94zm-11 1L8.5 8.5l.94-2.06 2.06-.94-2.06-.94L8.5 2.5l-.94 2.06-2.06.94zm10 10l.94 2.06.94-2.06 2.06-.94-2.06-.94-.94-2.06-.94 2.06-2.06.94z\"/><path d=\"M17.41 7.96l-1.37-1.37c-.4-.4-.92-.59-1.43-.59-.52 0-1.04.2-1.43.59L10.3 9.45l-7.72 7.72c-.78.78-.78 2.05 0 2.83L4 21.41c.39.39.9.59 1.41.59.51 0 1.02-.2 1.41-.59l7.78-7.78 2.81-2.81c.8-.78.8-2.07 0-2.86zM5.41 20L4 18.59l7.72-7.72 1.47 1.35L5.41 20z\"/>\n",
              "  </svg>\n",
              "      </button>\n",
              "      \n",
              "  <style>\n",
              "    .colab-df-container {\n",
              "      display:flex;\n",
              "      flex-wrap:wrap;\n",
              "      gap: 12px;\n",
              "    }\n",
              "\n",
              "    .colab-df-convert {\n",
              "      background-color: #E8F0FE;\n",
              "      border: none;\n",
              "      border-radius: 50%;\n",
              "      cursor: pointer;\n",
              "      display: none;\n",
              "      fill: #1967D2;\n",
              "      height: 32px;\n",
              "      padding: 0 0 0 0;\n",
              "      width: 32px;\n",
              "    }\n",
              "\n",
              "    .colab-df-convert:hover {\n",
              "      background-color: #E2EBFA;\n",
              "      box-shadow: 0px 1px 2px rgba(60, 64, 67, 0.3), 0px 1px 3px 1px rgba(60, 64, 67, 0.15);\n",
              "      fill: #174EA6;\n",
              "    }\n",
              "\n",
              "    [theme=dark] .colab-df-convert {\n",
              "      background-color: #3B4455;\n",
              "      fill: #D2E3FC;\n",
              "    }\n",
              "\n",
              "    [theme=dark] .colab-df-convert:hover {\n",
              "      background-color: #434B5C;\n",
              "      box-shadow: 0px 1px 3px 1px rgba(0, 0, 0, 0.15);\n",
              "      filter: drop-shadow(0px 1px 2px rgba(0, 0, 0, 0.3));\n",
              "      fill: #FFFFFF;\n",
              "    }\n",
              "  </style>\n",
              "\n",
              "      <script>\n",
              "        const buttonEl =\n",
              "          document.querySelector('#df-5e2fec03-ef79-4826-b4fe-e0b003242cbb button.colab-df-convert');\n",
              "        buttonEl.style.display =\n",
              "          google.colab.kernel.accessAllowed ? 'block' : 'none';\n",
              "\n",
              "        async function convertToInteractive(key) {\n",
              "          const element = document.querySelector('#df-5e2fec03-ef79-4826-b4fe-e0b003242cbb');\n",
              "          const dataTable =\n",
              "            await google.colab.kernel.invokeFunction('convertToInteractive',\n",
              "                                                     [key], {});\n",
              "          if (!dataTable) return;\n",
              "\n",
              "          const docLinkHtml = 'Like what you see? Visit the ' +\n",
              "            '<a target=\"_blank\" href=https://colab.research.google.com/notebooks/data_table.ipynb>data table notebook</a>'\n",
              "            + ' to learn more about interactive tables.';\n",
              "          element.innerHTML = '';\n",
              "          dataTable['output_type'] = 'display_data';\n",
              "          await google.colab.output.renderOutput(dataTable, element);\n",
              "          const docLink = document.createElement('div');\n",
              "          docLink.innerHTML = docLinkHtml;\n",
              "          element.appendChild(docLink);\n",
              "        }\n",
              "      </script>\n",
              "    </div>\n",
              "  </div>\n",
              "  "
            ]
          },
          "metadata": {},
          "execution_count": 68
        }
      ]
    },
    {
      "cell_type": "code",
      "source": [
        "iface = gr.Interface(test, gr.inputs.Dropdown(['서울', '부산', '대구', '대전', '광주', '울산', '인천']), outputs=['dataframe'])\n",
        "iface.launch(debug=True)"
      ],
      "metadata": {
        "id": "kxORJVPOnDSP",
        "outputId": "9e11b728-b787-41f9-b81c-bb1208b0d9bd",
        "colab": {
          "base_uri": "https://localhost:8080/",
          "height": 708
        }
      },
      "execution_count": null,
      "outputs": [
        {
          "output_type": "stream",
          "name": "stdout",
          "text": [
            "Colab notebook detected. This cell will run indefinitely so that you can see errors and logs. To turn off, set debug=False in launch().\n",
            "Running on public URL: https://35757.gradio.app\n",
            "\n",
            "This share link expires in 72 hours. For free permanent hosting, check out Spaces (https://huggingface.co/spaces)\n"
          ]
        },
        {
          "output_type": "display_data",
          "data": {
            "text/plain": [
              "<IPython.lib.display.IFrame at 0x7f68414bfa50>"
            ],
            "text/html": [
              "\n",
              "        <iframe\n",
              "            width=\"900\"\n",
              "            height=\"500\"\n",
              "            src=\"https://35757.gradio.app\"\n",
              "            frameborder=\"0\"\n",
              "            allowfullscreen\n",
              "        ></iframe>\n",
              "        "
            ]
          },
          "metadata": {}
        },
        {
          "output_type": "stream",
          "name": "stderr",
          "text": [
            "/usr/local/lib/python3.7/dist-packages/ipykernel_launcher.py:21: DeprecationWarning: The default dtype for empty Series will be 'object' instead of 'float64' in a future version. Specify a dtype explicitly to silence this warning.\n",
            "/usr/local/lib/python3.7/dist-packages/ipykernel_launcher.py:22: DeprecationWarning: The default dtype for empty Series will be 'object' instead of 'float64' in a future version. Specify a dtype explicitly to silence this warning.\n",
            "/usr/local/lib/python3.7/dist-packages/ipykernel_launcher.py:23: DeprecationWarning: The default dtype for empty Series will be 'object' instead of 'float64' in a future version. Specify a dtype explicitly to silence this warning.\n",
            "/usr/local/lib/python3.7/dist-packages/ipykernel_launcher.py:24: DeprecationWarning: The default dtype for empty Series will be 'object' instead of 'float64' in a future version. Specify a dtype explicitly to silence this warning.\n",
            "/usr/local/lib/python3.7/dist-packages/ipykernel_launcher.py:25: DeprecationWarning: The default dtype for empty Series will be 'object' instead of 'float64' in a future version. Specify a dtype explicitly to silence this warning.\n"
          ]
        }
      ]
    }
  ]
}